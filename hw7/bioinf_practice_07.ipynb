{
  "cells": [
    {
      "cell_type": "markdown",
      "id": "68e505da",
      "metadata": {
        "id": "68e505da"
      },
      "source": [
        "# Project 6 Lab Journal\n",
        "Filippov M., Zheltova K"
      ]
    },
    {
      "cell_type": "markdown",
      "id": "ae0155b0",
      "metadata": {
        "id": "ae0155b0"
      },
      "source": [
        "Data avaiabe at https://figshare.com/articles/dataset/_Dead_man_s_teeth_dataset/12152040\n",
        "\n",
        "Original data: https://trace.ncbi.nlm.nih.gov/Traces/index.html?view=study&acc=SRP029257"
      ]
    },
    {
      "cell_type": "markdown",
      "id": "2a100654",
      "metadata": {
        "id": "2a100654"
      },
      "source": [
        "### 1 QIIME (installed with conda, scripts here wont work)\n",
        "Importing FASTQ files (manifest file)"
      ]
    },
    {
      "cell_type": "markdown",
      "id": "0aa37b30",
      "metadata": {
        "id": "0aa37b30"
      },
      "source": [
        "`qiime tools import   --type 'SampleData[SequencesWithQuality]'   --input-path manifest.tsv   --output-path sequences.qza   --input-format SingleEndFastqManifestPhred33V2` "
      ]
    },
    {
      "cell_type": "markdown",
      "id": "72981c72",
      "metadata": {
        "id": "72981c72"
      },
      "source": [
        "`qiime tools validate sequences.qza`\n",
        "> Result sequences.qza appears to be valid at level=max."
      ]
    },
    {
      "cell_type": "markdown",
      "id": "15bfc087",
      "metadata": {
        "id": "15bfc087"
      },
      "source": [
        "QC\n",
        "\n",
        "`qiime demux summarize --i-data sequences.qza --o-visualization sequences.qzv`\n",
        "\n",
        "\n",
        "Trim barcode (mostleft 35 bp) and amplification primer (140 bp)\n",
        "\n",
        "`qiime dada2 denoise-single   --i-demultiplexed-seqs sequences.qza   --p-trim-left 35 --p-trunc-len 140 --o-representative-sequences rep-seqs.qza --o-table table.qza --o-denoising-stats stats.qza`\n",
        "\n",
        "Create QC table\n",
        "\n",
        "`qiime metadata tabulate   --m-input-file stats.qza   --o-visualization stats.qzv`\n",
        "\n",
        "Visualization table\n",
        "\n",
        "`qiime feature-table summarize   --i-table table.qza   --o-visualization table.qzv   --m-sample-metadata-file sample-metadata.tsv`\n",
        "\n",
        "Map OTUs to sequences\n",
        "\n",
        "`qiime feature-table tabulate-seqs  --i-data rep-seqs.qza   --o-visualization rep-seqs.qzv`\n",
        "\n",
        "Download Silva DB here\n",
        "\n",
        "https://docs.qiime2.org/2023.2/data-resources/#marker-gene-reference-databases\n",
        "\n",
        "Download Naive Bayes classifier trained on this data\n",
        "\n",
        "https://data.qiime2.org/2022.2/common/silva-138-99-nb-classifier.qza\n",
        "\n",
        "Get taxonomy\n",
        "\n",
        "`qiime feature-classifier classify-sklearn   --i-classifier silva-138-99-nb-classifier.qza   --i-reads rep-seqs.qza   --o-classification taxonomy.qza` # out of RAM, downoaded taxonomy.qza from Mike\n",
        "\n",
        "Visualize taxonomy\n",
        "\n",
        "`qiime metadata tabulate --m-input-file taxonomy.qza --o-visualization taxonomy.qzv`\n",
        "\n",
        "Generate taxonomy bar plots\n",
        "\n",
        "`qiime taxa barplot \\\n",
        "  --i-table table.qza \\\n",
        "  --i-taxonomy taxonomy.qza \\\n",
        "  --m-metadata-file sample-metadata.tsv \\\n",
        "  --o-visualization taxa-bar-plots.qzv\n",
        "`\n",
        "\n",
        "\n",
        "\n",
        ".qzv files visualized at https://view.qiime2.org/"
      ]
    },
    {
      "cell_type": "markdown",
      "id": "4c644669",
      "metadata": {
        "id": "4c644669"
      },
      "source": [
        "# 2. Shotgun sequencing"
      ]
    },
    {
      "cell_type": "markdown",
      "id": "b36cf625",
      "metadata": {
        "id": "b36cf625"
      },
      "source": [
        "Download metagenome assembly\n",
        "\n",
        "https://www.dropbox.com/s/f5j52tliumt6etm/G12_assembly.fna.gz?dl=0\n",
        "\n",
        "Download Tannarella forsythia genome (fasta and gff3)\n",
        "\n",
        "https://www.ncbi.nlm.nih.gov/nuccore/NC_016610.1\n",
        "\n",
        "Align  metagenome contigs on the T. forsynthia genome"
      ]
    },
    {
      "cell_type": "code",
      "execution_count": null,
      "id": "a5580683",
      "metadata": {
        "collapsed": true,
        "id": "a5580683",
        "outputId": "0acb2045-84cc-4277-e999-46c0470d08a2"
      },
      "outputs": [
        {
          "name": "stdout",
          "output_type": "stream",
          "text": [
            "[bwa_index] Pack FASTA... 0.03 sec\n",
            "[bwa_index] Construct BWT for the packed sequence...\n",
            "[bwa_index] 1.18 seconds elapse.\n",
            "[bwa_index] Update BWT... 0.02 sec\n",
            "[bwa_index] Pack forward-only FASTA... 0.02 sec\n",
            "[bwa_index] Construct SA from BWT and Occ... 0.70 sec\n",
            "[main] Version: 0.7.17-r1188\n",
            "[main] CMD: bwa index sequence.fasta\n",
            "[main] Real time: 1.974 sec; CPU: 1.964 sec\n"
          ]
        }
      ],
      "source": [
        "! bwa index sequence.fasta"
      ]
    },
    {
      "cell_type": "code",
      "execution_count": null,
      "id": "c87beec1",
      "metadata": {
        "id": "c87beec1",
        "outputId": "e526ce18-ad9f-46a9-8901-b193abe1d1d4"
      },
      "outputs": [
        {
          "name": "stdout",
          "output_type": "stream",
          "text": [
            "[M::bwa_idx_load_from_disk] read 0 ALT contigs\n",
            "[M::process] read 33142 sequences (10000684 bp)...\n",
            "[M::process] read 34258 sequences (10000241 bp)...\n",
            "[M::mem_process_seqs] Processed 33142 reads in 6.873 CPU sec, 6.770 real sec\n",
            "[M::process] read 35404 sequences (10000120 bp)...\n",
            "[M::mem_process_seqs] Processed 34258 reads in 6.528 CPU sec, 6.401 real sec\n",
            "[M::process] read 36534 sequences (10000152 bp)...\n",
            "[M::mem_process_seqs] Processed 35404 reads in 6.549 CPU sec, 6.429 real sec\n",
            "[M::process] read 38278 sequences (10001697 bp)...\n",
            "[M::mem_process_seqs] Processed 36534 reads in 6.682 CPU sec, 6.559 real sec\n",
            "[M::process] read 38866 sequences (10000030 bp)...\n",
            "[M::mem_process_seqs] Processed 38278 reads in 7.033 CPU sec, 6.917 real sec\n",
            "[M::process] read 40534 sequences (10000318 bp)...\n",
            "[M::mem_process_seqs] Processed 38866 reads in 8.058 CPU sec, 8.005 real sec\n",
            "[M::process] read 42182 sequences (10000459 bp)...\n",
            "[M::mem_process_seqs] Processed 40534 reads in 7.075 CPU sec, 6.955 real sec\n",
            "[M::process] read 43782 sequences (10000165 bp)...\n",
            "[M::mem_process_seqs] Processed 42182 reads in 7.334 CPU sec, 7.246 real sec\n",
            "[M::process] read 45484 sequences (10000333 bp)...\n",
            "[M::mem_process_seqs] Processed 43782 reads in 7.333 CPU sec, 7.205 real sec\n",
            "[M::process] read 47172 sequences (10000275 bp)...\n",
            "[M::mem_process_seqs] Processed 45484 reads in 6.814 CPU sec, 6.696 real sec\n",
            "[M::process] read 49554 sequences (10000202 bp)...\n",
            "[M::mem_process_seqs] Processed 47172 reads in 6.837 CPU sec, 6.688 real sec\n",
            "[M::process] read 51030 sequences (10000167 bp)...\n",
            "[M::mem_process_seqs] Processed 49554 reads in 7.477 CPU sec, 7.382 real sec\n",
            "[M::process] read 53878 sequences (10000268 bp)...\n",
            "[M::mem_process_seqs] Processed 51030 reads in 6.457 CPU sec, 6.325 real sec\n",
            "[M::process] read 56196 sequences (10000036 bp)...\n",
            "[M::mem_process_seqs] Processed 53878 reads in 6.849 CPU sec, 6.724 real sec\n",
            "[M::process] read 59072 sequences (10000141 bp)...\n",
            "[M::mem_process_seqs] Processed 56196 reads in 6.863 CPU sec, 6.744 real sec\n",
            "[M::process] read 60188 sequences (10000115 bp)...\n",
            "[M::mem_process_seqs] Processed 59072 reads in 7.448 CPU sec, 7.307 real sec\n",
            "[M::process] read 66608 sequences (10000039 bp)...\n",
            "[M::mem_process_seqs] Processed 60188 reads in 7.055 CPU sec, 6.909 real sec\n",
            "[M::process] read 73439 sequences (9958998 bp)...\n",
            "[M::mem_process_seqs] Processed 66608 reads in 8.299 CPU sec, 8.137 real sec\n",
            "[M::mem_process_seqs] Processed 73439 reads in 7.290 CPU sec, 7.284 real sec\n",
            "[main] Version: 0.7.17-r1188\n",
            "[main] CMD: bwa mem sequence.fasta G12_assembly.fna.gz\n",
            "[main] Real time: 133.142 sec; CPU: 135.026 sec\n"
          ]
        }
      ],
      "source": [
        "! bwa mem sequence.fasta G12_assembly.fna.gz | samtools view -b > alignment.bam"
      ]
    },
    {
      "cell_type": "code",
      "execution_count": null,
      "id": "1a78591a",
      "metadata": {
        "id": "1a78591a",
        "outputId": "e893558a-6a51-45ba-f44e-df3a0010f7c8"
      },
      "outputs": [
        {
          "name": "stdout",
          "output_type": "stream",
          "text": [
            "905742 + 0 in total (QC-passed reads + QC-failed reads)\r\n",
            "905601 + 0 primary\r\n",
            "0 + 0 secondary\r\n",
            "141 + 0 supplementary\r\n",
            "0 + 0 duplicates\r\n",
            "0 + 0 primary duplicates\r\n",
            "16539 + 0 mapped (1.83% : N/A)\r\n",
            "16398 + 0 primary mapped (1.81% : N/A)\r\n",
            "0 + 0 paired in sequencing\r\n",
            "0 + 0 read1\r\n",
            "0 + 0 read2\r\n",
            "0 + 0 properly paired (N/A : N/A)\r\n",
            "0 + 0 with itself and mate mapped\r\n",
            "0 + 0 singletons (N/A : N/A)\r\n",
            "0 + 0 with mate mapped to a different chr\r\n",
            "0 + 0 with mate mapped to a different chr (mapQ>=5)\r\n"
          ]
        }
      ],
      "source": [
        "! samtools flagstat alignment.bam"
      ]
    },
    {
      "cell_type": "code",
      "execution_count": null,
      "id": "7c63ff8e",
      "metadata": {
        "id": "7c63ff8e"
      },
      "outputs": [],
      "source": [
        "! samtools sort alignment.bam > alignment_sorted.bam\n",
        "! samtools index alignment_sorted.bam"
      ]
    },
    {
      "cell_type": "markdown",
      "id": "18e7fb0d",
      "metadata": {
        "id": "18e7fb0d"
      },
      "source": [
        "Obtain new regions with bedtools intersect"
      ]
    },
    {
      "cell_type": "code",
      "execution_count": null,
      "id": "af26d0d9",
      "metadata": {
        "id": "af26d0d9"
      },
      "outputs": [],
      "source": [
        "! bedtools bamtobed -i alignment_sorted.bam > alignment.bed"
      ]
    },
    {
      "cell_type": "code",
      "execution_count": null,
      "id": "31fa0e28",
      "metadata": {
        "id": "31fa0e28"
      },
      "outputs": [],
      "source": [
        "! bedtools intersect -v -b alignment.bed -a sequence.gff3 > intersect.txt"
      ]
    },
    {
      "cell_type": "code",
      "execution_count": null,
      "id": "7f42e795",
      "metadata": {
        "id": "7f42e795",
        "outputId": "fb8f32df-4ab5-4ce3-f7ff-ac2a25274d50"
      },
      "outputs": [
        {
          "name": "stdout",
          "output_type": "stream",
          "text": [
            "product=helix-turn-helix domain-containing protein;protein_id=WP_014223573.1;transl_table=11\r\n",
            "product=lanthionine synthetase LanC family protein;protein_id=WP_041590995.1;transl_table=11\r\n",
            "product=TIGR04157 family glycosyltransferase;protein_id=WP_014223582.1;transl_table=11\r\n",
            "product=class I lanthipeptide;protein_id=WP_041590503.1;transl_table=11\r\n",
            "product=lanthionine synthetase C family protein;protein_id=WP_014223583.1;transl_table=11\r\n",
            "product=lantibiotic dehydratase family protein;protein_id=WP_041590506.1;transl_table=11\r\n",
            "product=thiopeptide-type bacteriocin biosynthesis protein;protein_id=WP_041590507.1;transl_table=11\r\n",
            "product=four helix bundle protein;protein_id=WP_014223665.1;transl_table=11\r\n",
            "product=IS1595-like element ISTfo1 family transposase;protein_id=WP_041590537.1;transl_table=11\r\n",
            "product=tRNA-Gly\r\n",
            "product=tRNA-Gly\r\n",
            "product=histidinol phosphate phosphatase;protein_id=WP_041590544.1;transl_table=11\r\n",
            "product=NVEALA domain-containing protein;protein_id=WP_014223806.1;transl_table=11\r\n",
            "product=NVEALA domain-containing protein;protein_id=WP_080561836.1;transl_table=11\r\n",
            "product=6-bladed beta-propeller;protein_id=WP_014223811.1;transl_table=11\r\n",
            "product=IS4 family transposase;protein_id=WP_244262935.1;transl_table=11\r\n",
            "product=IS1 family transposase;protein_id=WP_099046116.1;transl_table=11\r\n",
            "product=IS1 family transposase;protein_id=WP_099046116.1;transl_table=11\r\n",
            "product=6-bladed beta-propeller;protein_id=WP_014223816.1;transl_table=11\r\n",
            "product=IS1 family transposase;protein_id=WP_099046118.1;transl_table=11\r\n",
            "product=IS1 family transposase;protein_id=WP_099046118.1;transl_table=11\r\n",
            "product=very short patch repair endonuclease;protein_id=WP_244262939.1;transl_table=11\r\n",
            "product=AIPR family protein;protein_id=WP_014224073.1;transl_table=11\r\n",
            "product=PD-(D/E)XK motif protein;protein_id=WP_014224074.1;transl_table=11\r\n",
            "product=Z1 domain-containing protein;protein_id=WP_014224075.1;transl_table=11\r\n",
            "product=ATP-binding protein;protein_id=WP_014224076.1;transl_table=11\r\n",
            "product=cell filamentation protein Fic;pseudo=true;transl_table=11\r\n",
            "product=phosphorylase family;protein_id=WP_014224136.1;transl_table=11\r\n",
            "product=IS1380 family transposase;protein_id=WP_041590984.1;transl_table=11\r\n",
            "product=IS4-like element IS421 family transposase;protein_id=WP_001300563.1;transl_table=11\r\n",
            "product=radical SAM peptide maturase;protein_id=WP_014224286.1;transl_table=11\r\n",
            "product=TIGR04150 pseudo-rSAM protein;protein_id=WP_014224287.1;transl_table=11\r\n",
            "product=IS1595 family transposase;pseudo=true;transl_table=11\r\n",
            "product=helix-turn-helix domain-containing protein;protein_id=WP_244262944.1;transl_table=11\r\n",
            "product=transposase;protein_id=WP_244262945.1;transl_table=11\r\n",
            "product=galactosyltransferase-related protein;protein_id=WP_014224299.1;transl_table=11\r\n",
            "product=6-bladed beta-propeller;protein_id=WP_014224300.1;transl_table=11\r\n",
            "product=IS1 family transposase;pseudo=true;start_range=.,1105118;transl_table=11\r\n",
            "product=IS1 family transposase;protein_id=WP_099046121.1;transl_table=11\r\n",
            "product=IS1 family transposase;protein_id=WP_099046121.1;transl_table=11\r\n",
            "product=transposase;protein_id=WP_244262912.1;transl_table=11\r\n",
            "product=ISL3 family transposase;protein_id=WP_052299234.1;transl_table=11\r\n",
            "product=IS110 family transposase;protein_id=WP_014225157.1;transl_table=11\r\n",
            "product=rhodanese-like domain-containing protein;protein_id=WP_014224551.1;transl_table=11\r\n",
            "product=IS1595 family transposase;protein_id=WP_014224553.1;transl_table=11\r\n",
            "product=T9SS type A sorting domain-containing protein;pseudo=true;transl_table=11\r\n",
            "product=site-specific integrase;protein_id=WP_007366539.1;transl_table=11\r\n",
            "product=helix-turn-helix domain-containing protein;protein_id=WP_014224629.1;transl_table=11\r\n",
            "product=helix-turn-helix domain-containing protein;protein_id=WP_007366536.1;transl_table=11\r\n",
            "product=helix-turn-helix domain-containing protein;protein_id=WP_014224631.1;transl_table=11\r\n",
            "product=helix-turn-helix domain-containing protein;protein_id=WP_007366534.1;transl_table=11\r\n",
            "product=DUF1896 domain-containing protein;protein_id=WP_007366531.1;transl_table=11\r\n",
            "product=DUF418 domain-containing protein;pseudo=true;transl_table=11\r\n",
            "product=nuclear transport factor 2 family protein;protein_id=WP_007366528.1;transl_table=11\r\n",
            "product=GNAT family N-acetyltransferase;protein_id=WP_007366527.1;transl_table=11\r\n",
            "product=tetracycline resistance ribosomal protection protein;protein_id=WP_007366526.1;transl_table=11\r\n",
            "product=ATP-binding protein;protein_id=WP_007366525.1;transl_table=11\r\n",
            "product=sigma-54 dependent transcriptional regulator;protein_id=WP_007366524.1;transl_table=11\r\n",
            "product=dihydrofolate reductase family protein;protein_id=WP_007366523.1;transl_table=11\r\n",
            "product=RteC domain-containing protein;protein_id=WP_007366522.1;transl_table=11\r\n",
            "product=ATP-binding protein;protein_id=WP_007366521.1;transl_table=11\r\n",
            "product=conjugal transfer protein MobB;protein_id=WP_007366518.1;transl_table=11\r\n",
            "product=conjugal transfer protein MobA;protein_id=WP_005944180.1;transl_table=11\r\n",
            "product=ParA family protein;protein_id=WP_007366517.1;transl_table=11\r\n",
            "product=DUF3408 domain-containing protein;protein_id=WP_007366516.1;transl_table=11\r\n",
            "product=DUF3408 domain-containing protein;protein_id=WP_028899187.1;transl_table=11\r\n",
            "product=DUF4134 domain-containing protein;protein_id=WP_009016663.1;transl_table=11\r\n",
            "product=DUF4133 domain-containing protein;protein_id=WP_007366512.1;transl_table=11\r\n",
            "product=DUF3876 domain-containing protein;protein_id=WP_007366509.1;transl_table=11\r\n",
            "product=DUF4141 domain-containing protein;protein_id=WP_007366508.1;transl_table=11\r\n",
            "product=conjugative transposon protein TraJ;protein_id=WP_007366507.1;transl_table=11\r\n",
            "product=conjugative transposon protein TraK;protein_id=WP_007366506.1;transl_table=11\r\n",
            "product=TraL conjugative transposon family protein;protein_id=WP_007366505.1;transl_table=11\r\n",
            "product=conjugative transposon protein TraM;protein_id=WP_007366504.1;transl_table=11\r\n",
            "product=conjugative transposon protein TraN;protein_id=WP_007366503.1;transl_table=11\r\n",
            "product=conjugal transfer protein TraO;protein_id=WP_007366502.1;transl_table=11\r\n",
            "product=toprim domain-containing protein;protein_id=WP_007366501.1;transl_table=11\r\n",
            "product=DUF3872 domain-containing protein;protein_id=WP_007366500.1;transl_table=11\r\n",
            "product=lysozyme;protein_id=WP_007366499.1;transl_table=11\r\n",
            "product=DUF3873 domain-containing protein;protein_id=WP_014224641.1;transl_table=11\r\n",
            "product=PcfJ domain-containing protein;protein_id=WP_014224642.1;transl_table=11\r\n",
            "product=PcfK-like family protein;protein_id=WP_007366492.1;transl_table=11\r\n",
            "product=IS1595-like element ISTfo1 family transposase;protein_id=WP_041590710.1;transl_table=11\r\n",
            "product=transposase;protein_id=WP_236684414.1;transl_table=11\r\n",
            "product=transposase;protein_id=WP_231964057.1;transl_table=11\r\n",
            "product=Abi family protein;protein_id=WP_004584877.1;transl_table=11\r\n",
            "product=IS110 family transposase;protein_id=WP_041591157.1;transl_table=11\r\n",
            "product=IS1595-like element ISTfo1 family transposase;protein_id=WP_041590710.1;transl_table=11\r\n",
            "product=ISL3 family transposase;protein_id=WP_014224885.1;transl_table=11\r\n",
            "product=IS1380 family transposase;protein_id=WP_041590984.1;transl_table=11\r\n",
            "product=DUF4372 domain-containing protein;protein_id=WP_041590818.1;transl_table=11\r\n",
            "product=tRNA-Leu\r\n",
            "product=tRNA-Leu\r\n",
            "product=IS110 family transposase;pseudo=true;transl_table=11\r\n",
            "product=IS1595-like element ISTfo1 family transposase;protein_id=WP_041590537.1;transl_table=11\r\n",
            "product=antirestriction protein ArdA;protein_id=WP_244262972.1;transl_table=11\r\n",
            "product=PcfJ domain-containing protein;pseudo=true;start_range=.,2200919;transl_table=11\r\n",
            "product=tRNA-Arg\r\n",
            "product=tRNA-Arg\r\n",
            "product=SusD/RagB family nutrient-binding outer membrane lipoprotein;protein_id=WP_014225661.1;transl_table=11\r\n",
            "product=IS1 family transposase;protein_id=WP_099046123.1;transl_table=11\r\n",
            "product=Arm DNA-binding domain-containing protein;protein_id=WP_052299279.1;transl_table=11\r\n",
            "product=transposase;pseudo=true;transl_table=11\r\n",
            "product=DUF1566 domain-containing protein;protein_id=WP_052299290.1;transl_table=11\r\n",
            "product=ISL3 family transposase;protein_id=WP_014224885.1;transl_table=11\r\n",
            "product=DUF4974 domain-containing protein;protein_id=WP_041590907.1;transl_table=11\r\n",
            "product=IS1380 family transposase;protein_id=WP_041590984.1;transl_table=11\r\n",
            "product=helicase;pseudo=true;start_range=.,3227525;transl_table=11\r\n",
            "product=TetR/AcrR family transcriptional regulator;protein_id=WP_051322484.1;transl_table=11\r\n",
            "product=beta-ketoacyl-ACP synthase III;protein_id=WP_014226278.1;transl_table=11\r\n",
            "product=MMPL family transporter;protein_id=WP_014226279.1;transl_table=11\r\n",
            "product=outer membrane lipoprotein-sorting protein;protein_id=WP_021644789.1;transl_table=11\r\n",
            "product=DVUA0089 family protein;protein_id=WP_244262921.1;transl_table=11\r\n",
            "product=helix-turn-helix domain-containing protein;protein_id=WP_005874676.1;transl_table=11\r\n",
            "product=outer membrane beta-barrel family protein;protein_id=WP_041590957.1;transl_table=11\r\n",
            "product=SPASM domain-containing protein;protein_id=WP_244262923.1;transl_table=11\r\n",
            "product=DUF3289 family protein;protein_id=WP_099046125.1;transl_table=11\r\n",
            "product=conjugative transposon protein TraK;pseudo=true;start_range=.,3266070;transl_table=11\r\n",
            "product=conjugative transposon protein TraN;pseudo=true;start_range=.,3266813;transl_table=11\r\n",
            "product=conjugal transfer protein TraO;protein_id=WP_014226304.1;transl_table=11\r\n",
            "product=DUF3872 domain-containing protein;protein_id=WP_014226305.1;transl_table=11\r\n",
            "product=PH domain-containing protein;protein_id=WP_244262924.1;transl_table=11\r\n",
            "product=type VI secretion system tube protein TssD;protein_id=WP_014226309.1;transl_table=11\r\n",
            "product=type VI secretion system tube protein TssD;protein_id=WP_041590961.1;transl_table=11\r\n",
            "product=IS1595-like element ISTfo1 family transposase;pseudo=true;transl_table=11\r\n",
            "product=IS110 family transposase;protein_id=WP_014225157.1;transl_table=11\r\n"
          ]
        }
      ],
      "source": [
        "! grep -o -P product.* intersect.txt | grep -v hypothetic # in modern bacteria, but not in ancient"
      ]
    },
    {
      "cell_type": "code",
      "execution_count": null,
      "id": "4d755585",
      "metadata": {
        "id": "4d755585"
      },
      "outputs": [],
      "source": []
    },
    {
      "cell_type": "code",
      "execution_count": null,
      "id": "11fc43de",
      "metadata": {
        "id": "11fc43de"
      },
      "outputs": [],
      "source": []
    }
  ],
  "metadata": {
    "kernelspec": {
      "display_name": "Python 3 (ipykernel)",
      "language": "python",
      "name": "python3"
    },
    "language_info": {
      "codemirror_mode": {
        "name": "ipython",
        "version": 3
      },
      "file_extension": ".py",
      "mimetype": "text/x-python",
      "name": "python",
      "nbconvert_exporter": "python",
      "pygments_lexer": "ipython3",
      "version": "3.10.6"
    },
    "colab": {
      "provenance": []
    }
  },
  "nbformat": 4,
  "nbformat_minor": 5
}