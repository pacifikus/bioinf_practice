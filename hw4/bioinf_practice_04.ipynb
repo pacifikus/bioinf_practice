{
  "nbformat": 4,
  "nbformat_minor": 0,
  "metadata": {
    "colab": {
      "provenance": [],
      "collapsed_sections": [
        "uBOL2VKIR_Fu",
        "RfWlKoI0XtUX"
      ]
    },
    "kernelspec": {
      "name": "python3",
      "display_name": "Python 3"
    },
    "language_info": {
      "name": "python"
    }
  },
  "cells": [
    {
      "cell_type": "code",
      "execution_count": 1,
      "metadata": {
        "id": "euZOzUvbRCwH"
      },
      "outputs": [],
      "source": [
        "import pandas as pd\n",
        "import os\n",
        "import glob"
      ]
    },
    {
      "cell_type": "markdown",
      "source": [
        "## Get data"
      ],
      "metadata": {
        "id": "uBOL2VKIR_Fu"
      }
    },
    {
      "cell_type": "markdown",
      "source": [
        "For this project we will be using a sequence of the Ramazzottius varieornatus, the YOKOZUNA-1 strain"
      ],
      "metadata": {
        "id": "2C7JIjoJWQef"
      }
    },
    {
      "cell_type": "code",
      "source": [
        "!mkdir raw_data"
      ],
      "metadata": {
        "id": "WuXEClK_SQPf"
      },
      "execution_count": null,
      "outputs": []
    },
    {
      "cell_type": "code",
      "source": [
        "!wget ftp.ncbi.nlm.nih.gov/genomes/all/GCA/001/949/185/GCA_001949185.1_Rvar_4.0/GCA_001949185.1_Rvar_4.0_genomic.fna.gz -P raw_data\n",
        "!gunzip raw_data/GCA_001949185.1_Rvar_4.0_genomic.fna.gz"
      ],
      "metadata": {
        "colab": {
          "base_uri": "https://localhost:8080/"
        },
        "id": "Sab1samURDXa",
        "outputId": "a8de8e01-ace8-4f11-8f24-b91fd62f6f25"
      },
      "execution_count": null,
      "outputs": [
        {
          "output_type": "stream",
          "name": "stdout",
          "text": [
            "--2022-12-15 10:00:05--  http://ftp.ncbi.nlm.nih.gov/genomes/all/GCA/001/949/185/GCA_001949185.1_Rvar_4.0/GCA_001949185.1_Rvar_4.0_genomic.fna.gz\n",
            "Resolving ftp.ncbi.nlm.nih.gov (ftp.ncbi.nlm.nih.gov)... 130.14.250.10, 165.112.9.230, 2607:f220:41f:250::230, ...\n",
            "Connecting to ftp.ncbi.nlm.nih.gov (ftp.ncbi.nlm.nih.gov)|130.14.250.10|:80... connected.\n",
            "HTTP request sent, awaiting response... 301 Moved Permanently\n",
            "Location: https://ftp.ncbi.nlm.nih.gov/genomes/all/GCA/001/949/185/GCA_001949185.1_Rvar_4.0/GCA_001949185.1_Rvar_4.0_genomic.fna.gz [following]\n",
            "--2022-12-15 10:00:05--  https://ftp.ncbi.nlm.nih.gov/genomes/all/GCA/001/949/185/GCA_001949185.1_Rvar_4.0/GCA_001949185.1_Rvar_4.0_genomic.fna.gz\n",
            "Connecting to ftp.ncbi.nlm.nih.gov (ftp.ncbi.nlm.nih.gov)|130.14.250.10|:443... connected.\n",
            "HTTP request sent, awaiting response... 200 OK\n",
            "Length: 17621408 (17M) [application/x-gzip]\n",
            "Saving to: ‘raw_data/GCA_001949185.1_Rvar_4.0_genomic.fna.gz’\n",
            "\n",
            "GCA_001949185.1_Rva 100%[===================>]  16.80M  30.7MB/s    in 0.5s    \n",
            "\n",
            "2022-12-15 10:00:06 (30.7 MB/s) - ‘raw_data/GCA_001949185.1_Rvar_4.0_genomic.fna.gz’ saved [17621408/17621408]\n",
            "\n"
          ]
        }
      ]
    },
    {
      "cell_type": "markdown",
      "source": [
        "## Structural annotation"
      ],
      "metadata": {
        "id": "2msxgeWXVUC2"
      }
    },
    {
      "cell_type": "markdown",
      "source": [
        "AUGUSTUS results were taken from  https://drive.google.com/file/d/1wBxf6cDgu22NbjAOgTe-8b3Zx60hNKY0/view\n"
      ],
      "metadata": {
        "id": "ZHBeCY-eT_lG"
      }
    },
    {
      "cell_type": "markdown",
      "source": [
        "Script to extract protein sequences (fasta) from the prediction output http://augustus.gobics.de/binaries/scripts/getAnnoFasta.pl"
      ],
      "metadata": {
        "id": "5-z1v2_bUzCu"
      }
    },
    {
      "cell_type": "code",
      "source": [
        "!perl getAnnoFasta.pl augustus.whole.gff"
      ],
      "metadata": {
        "id": "eM5KjRFqRDa5"
      },
      "execution_count": null,
      "outputs": []
    },
    {
      "cell_type": "code",
      "source": [
        "!grep -o '>' augustus.whole.aa | wc -l"
      ],
      "metadata": {
        "colab": {
          "base_uri": "https://localhost:8080/"
        },
        "id": "sLYvYQ5YRDfX",
        "outputId": "421149c8-64f3-4647-f943-f83536497b03"
      },
      "execution_count": null,
      "outputs": [
        {
          "output_type": "stream",
          "name": "stdout",
          "text": [
            "16435\n"
          ]
        }
      ]
    },
    {
      "cell_type": "markdown",
      "source": [
        "number of obtained proteins = 16435"
      ],
      "metadata": {
        "id": "3dy6BnmMVN1m"
      }
    },
    {
      "cell_type": "markdown",
      "source": [
        "## Physical localization \n"
      ],
      "metadata": {
        "id": "E0cr5EEPVXEe"
      }
    },
    {
      "cell_type": "markdown",
      "source": [
        "a list of peptides that were associated with the DNA   \n",
        "https://disk.yandex.ru/d/xJqQMGX77Xueqg"
      ],
      "metadata": {
        "id": "Ok07MZL6XeMu"
      }
    },
    {
      "cell_type": "markdown",
      "source": [
        "Now our goal is to figure out which proteins from the R. varieornatus genome these peptides correspond to, and find the relevant ones"
      ],
      "metadata": {
        "id": "AIfoOBGwWCMo"
      }
    },
    {
      "cell_type": "markdown",
      "source": [
        "### Install conda"
      ],
      "metadata": {
        "id": "RfWlKoI0XtUX"
      }
    },
    {
      "cell_type": "code",
      "source": [
        "!wget https://repo.anaconda.com/miniconda/Miniconda3-py37_4.8.2-Linux-x86_64.sh \n",
        "!chmod +x Miniconda3-py37_4.8.2-Linux-x86_64.sh \n",
        "!bash ./Miniconda3-py37_4.8.2-Linux-x86_64.sh -b -f -p /usr/local "
      ],
      "metadata": {
        "id": "HYVIAiqfXvSY"
      },
      "execution_count": null,
      "outputs": []
    },
    {
      "cell_type": "markdown",
      "source": [
        "### Install blast"
      ],
      "metadata": {
        "id": "FOA3w6xZXzFG"
      }
    },
    {
      "cell_type": "code",
      "source": [
        "!conda install -c bioconda blast"
      ],
      "metadata": {
        "colab": {
          "base_uri": "https://localhost:8080/"
        },
        "id": "R4F8aZ4BX0-X",
        "outputId": "0ed0d617-acf1-4511-e342-7edd4b95bdb5"
      },
      "execution_count": null,
      "outputs": [
        {
          "output_type": "stream",
          "name": "stdout",
          "text": [
            "Collecting package metadata (current_repodata.json): - \b\b\\ \b\b| \b\b/ \b\b- \b\b\\ \b\b| \b\b/ \b\b- \b\b\\ \b\b| \b\b/ \b\b- \b\b\\ \b\b| \b\b/ \b\b- \b\b\\ \b\b| \b\b/ \b\b- \b\b\\ \b\b| \b\b/ \b\b- \b\b\\ \b\b| \b\b/ \b\b- \b\b\\ \b\b| \b\b/ \b\b- \b\b\\ \b\b| \b\b/ \b\b- \b\b\\ \b\b| \b\b/ \b\b- \b\b\\ \b\b| \b\b/ \b\b- \b\b\\ \b\b| \b\b/ \b\b- \b\b\\ \b\b| \b\b/ \b\bdone\n",
            "Solving environment: \\ \b\b| \b\b/ \b\b- \b\b\\ \b\b| \b\b/ \b\b- \b\b\\ \b\b| \b\bdone\n",
            "\n",
            "## Package Plan ##\n",
            "\n",
            "  environment location: /usr/local\n",
            "\n",
            "  added / updated specs:\n",
            "    - blast\n",
            "\n",
            "\n",
            "The following packages will be downloaded:\n",
            "\n",
            "    package                    |            build\n",
            "    ---------------------------|-----------------\n",
            "    _openmp_mutex-5.1          |            1_gnu          21 KB\n",
            "    blast-2.5.0                |       hc0b0e79_3       137.8 MB  bioconda\n",
            "    boost-1.73.0               |  py37h06a4308_11          25 KB\n",
            "    bzip2-1.0.8                |       h7b6447c_0          78 KB\n",
            "    ca-certificates-2022.10.11 |       h06a4308_0         124 KB\n",
            "    certifi-2022.9.24          |   py37h06a4308_0         154 KB\n",
            "    conda-22.11.1              |   py37h06a4308_4         921 KB\n",
            "    flit-core-3.6.0            |     pyhd3eb1b0_0          42 KB\n",
            "    icu-58.2                   |       he6710b0_3        10.5 MB\n",
            "    importlib-metadata-4.11.3  |   py37h06a4308_0          40 KB\n",
            "    importlib_metadata-4.11.3  |       hd3eb1b0_0          12 KB\n",
            "    libboost-1.73.0            |      h3ff78a5_11        13.9 MB\n",
            "    libgcc-ng-11.2.0           |       h1234567_1         5.3 MB\n",
            "    libgomp-11.2.0             |       h1234567_1         474 KB\n",
            "    lz4-c-1.9.3                |       h295c915_1         185 KB\n",
            "    openssl-1.1.1s             |       h7f8727e_0         3.6 MB\n",
            "    pluggy-1.0.0               |   py37h06a4308_1          29 KB\n",
            "    py-boost-1.73.0            |  py37ha9443f7_11         204 KB\n",
            "    ruamel.yaml-0.17.21        |   py37h5eee18b_0         177 KB\n",
            "    ruamel.yaml.clib-0.2.6     |   py37h5eee18b_1         140 KB\n",
            "    toolz-0.12.0               |   py37h06a4308_0         104 KB\n",
            "    typing_extensions-4.4.0    |   py37h06a4308_0          45 KB\n",
            "    xz-5.2.8                   |       h5eee18b_0         429 KB\n",
            "    zipp-3.8.0                 |   py37h06a4308_0          15 KB\n",
            "    zstd-1.4.9                 |       haebb681_0         480 KB\n",
            "    ------------------------------------------------------------\n",
            "                                           Total:       174.8 MB\n",
            "\n",
            "The following NEW packages will be INSTALLED:\n",
            "\n",
            "  _openmp_mutex      pkgs/main/linux-64::_openmp_mutex-5.1-1_gnu\n",
            "  blast              bioconda/linux-64::blast-2.5.0-hc0b0e79_3\n",
            "  boost              pkgs/main/linux-64::boost-1.73.0-py37h06a4308_11\n",
            "  bzip2              pkgs/main/linux-64::bzip2-1.0.8-h7b6447c_0\n",
            "  flit-core          pkgs/main/noarch::flit-core-3.6.0-pyhd3eb1b0_0\n",
            "  icu                pkgs/main/linux-64::icu-58.2-he6710b0_3\n",
            "  importlib-metadata pkgs/main/linux-64::importlib-metadata-4.11.3-py37h06a4308_0\n",
            "  importlib_metadata pkgs/main/noarch::importlib_metadata-4.11.3-hd3eb1b0_0\n",
            "  libboost           pkgs/main/linux-64::libboost-1.73.0-h3ff78a5_11\n",
            "  libgomp            pkgs/main/linux-64::libgomp-11.2.0-h1234567_1\n",
            "  lz4-c              pkgs/main/linux-64::lz4-c-1.9.3-h295c915_1\n",
            "  pluggy             pkgs/main/linux-64::pluggy-1.0.0-py37h06a4308_1\n",
            "  py-boost           pkgs/main/linux-64::py-boost-1.73.0-py37ha9443f7_11\n",
            "  ruamel.yaml        pkgs/main/linux-64::ruamel.yaml-0.17.21-py37h5eee18b_0\n",
            "  ruamel.yaml.clib   pkgs/main/linux-64::ruamel.yaml.clib-0.2.6-py37h5eee18b_1\n",
            "  toolz              pkgs/main/linux-64::toolz-0.12.0-py37h06a4308_0\n",
            "  typing_extensions  pkgs/main/linux-64::typing_extensions-4.4.0-py37h06a4308_0\n",
            "  zipp               pkgs/main/linux-64::zipp-3.8.0-py37h06a4308_0\n",
            "  zstd               pkgs/main/linux-64::zstd-1.4.9-haebb681_0\n",
            "\n",
            "The following packages will be UPDATED:\n",
            "\n",
            "  ca-certificates                                2020.1.1-0 --> 2022.10.11-h06a4308_0\n",
            "  certifi                                 2019.11.28-py37_0 --> 2022.9.24-py37h06a4308_0\n",
            "  conda                                        4.8.2-py37_0 --> 22.11.1-py37h06a4308_4\n",
            "  libgcc-ng                                9.1.0-hdf63c60_0 --> 11.2.0-h1234567_1\n",
            "  openssl                                 1.1.1d-h7b6447c_4 --> 1.1.1s-h7f8727e_0\n",
            "  xz                                       5.2.4-h14c3975_4 --> 5.2.8-h5eee18b_0\n",
            "\n",
            "\n",
            "Proceed ([y]/n)? y\n",
            "\n",
            "\n",
            "Downloading and Extracting Packages\n",
            "py-boost-1.73.0      | 204 KB    | : 100% 1.0/1 [00:00<00:00,  4.97it/s]                \n",
            "icu-58.2             | 10.5 MB   | : 100% 1.0/1 [00:00<00:00,  2.71it/s]                \n",
            "blast-2.5.0          | 137.8 MB  | : 100% 1.0/1 [00:26<00:00, 26.95s/it]               \n",
            "zstd-1.4.9           | 480 KB    | : 100% 1.0/1 [00:00<00:00, 11.45it/s]\n",
            "libgcc-ng-11.2.0     | 5.3 MB    | : 100% 1.0/1 [00:00<00:00,  3.85it/s]\n",
            "ruamel.yaml-0.17.21  | 177 KB    | : 100% 1.0/1 [00:00<00:00, 11.35it/s]\n",
            "xz-5.2.8             | 429 KB    | : 100% 1.0/1 [00:00<00:00, 12.09it/s]\n",
            "zipp-3.8.0           | 15 KB     | : 100% 1.0/1 [00:00<00:00, 16.37it/s]\n",
            "pluggy-1.0.0         | 29 KB     | : 100% 1.0/1 [00:00<00:00, 15.86it/s]\n",
            "toolz-0.12.0         | 104 KB    | : 100% 1.0/1 [00:00<00:00, 11.60it/s]\n",
            "bzip2-1.0.8          | 78 KB     | : 100% 1.0/1 [00:00<00:00, 12.66it/s]\n",
            "flit-core-3.6.0      | 42 KB     | : 100% 1.0/1 [00:00<00:00, 11.49it/s]\n",
            "lz4-c-1.9.3          | 185 KB    | : 100% 1.0/1 [00:00<00:00, 11.79it/s]\n",
            "ruamel.yaml.clib-0.2 | 140 KB    | : 100% 1.0/1 [00:00<00:00, 14.72it/s]\n",
            "conda-22.11.1        | 921 KB    | : 100% 1.0/1 [00:00<00:00,  6.75it/s]\n",
            "ca-certificates-2022 | 124 KB    | : 100% 1.0/1 [00:00<00:00, 14.37it/s]\n",
            "libgomp-11.2.0       | 474 KB    | : 100% 1.0/1 [00:00<00:00,  9.70it/s]\n",
            "boost-1.73.0         | 25 KB     | : 100% 1.0/1 [00:00<00:00, 10.22it/s]\n",
            "libboost-1.73.0      | 13.9 MB   | : 100% 1.0/1 [00:02<00:00,  2.29s/it]               \n",
            "importlib-metadata-4 | 40 KB     | : 100% 1.0/1 [00:00<00:00,  8.99it/s]\n",
            "typing_extensions-4. | 45 KB     | : 100% 1.0/1 [00:00<00:00, 11.57it/s]\n",
            "openssl-1.1.1s       | 3.6 MB    | : 100% 1.0/1 [00:00<00:00,  5.61it/s]\n",
            "importlib_metadata-4 | 12 KB     | : 100% 1.0/1 [00:00<00:00, 12.84it/s]\n",
            "_openmp_mutex-5.1    | 21 KB     | : 100% 1.0/1 [00:00<00:00, 14.54it/s]\n",
            "certifi-2022.9.24    | 154 KB    | : 100% 1.0/1 [00:00<00:00, 15.52it/s]\n",
            "Preparing transaction: - \b\b\\ \b\b| \b\b/ \b\b- \b\b\\ \b\b| \b\bdone\n",
            "Verifying transaction: - \b\b\\ \b\b| \b\b/ \b\b- \b\b\\ \b\b| \b\b/ \b\b- \b\b\\ \b\b| \b\b/ \b\b- \b\b\\ \b\b| \b\b/ \b\b- \b\b\\ \b\b| \b\b/ \b\b- \b\b\\ \b\b| \b\b/ \b\b- \b\b\\ \b\b| \b\b/ \b\b- \b\b\\ \b\b| \b\b/ \b\b- \b\b\\ \b\b| \b\b/ \b\b- \b\b\\ \b\b| \b\b/ \b\b- \b\b\\ \b\b| \b\b/ \b\b- \b\b\\ \b\b| \b\b/ \b\b- \b\b\\ \b\b| \b\b/ \b\b- \b\b\\ \b\b| \b\b/ \b\b- \b\bdone\n",
            "Executing transaction: | \b\b/ \b\b- \b\b\\ \b\b| \b\b/ \b\b- \b\b\\ \b\b| \b\b/ \b\b- \b\b\\ \b\b| \b\b/ \b\b- \b\b\\ \b\b| \b\b/ \b\b- \b\b\\ \b\b| \b\b/ \b\bdone\n"
          ]
        }
      ]
    },
    {
      "cell_type": "markdown",
      "source": [
        "### Create a database"
      ],
      "metadata": {
        "id": "0hsIco94X8qG"
      }
    },
    {
      "cell_type": "code",
      "source": [
        "!makeblastdb -in augustus.whole.aa -dbtype prot -out blast_database"
      ],
      "metadata": {
        "colab": {
          "base_uri": "https://localhost:8080/"
        },
        "id": "5P_rB-BmRDjp",
        "outputId": "97204d90-f465-4adf-c840-70d323668422"
      },
      "execution_count": null,
      "outputs": [
        {
          "output_type": "stream",
          "name": "stdout",
          "text": [
            "\n",
            "\n",
            "Building a new DB, current time: 12/15/2022 10:06:29\n",
            "New DB name:   /content/blast_database\n",
            "New DB title:  augustus.whole.aa\n",
            "Sequence type: Protein\n",
            "Keep MBits: T\n",
            "Maximum file size: 1000000000B\n",
            "Adding sequences from FASTA; added 16435 sequences in 0.764814 seconds.\n"
          ]
        }
      ]
    },
    {
      "cell_type": "markdown",
      "source": [
        "### Perform search"
      ],
      "metadata": {
        "id": "nyV7Zus6YEeO"
      }
    },
    {
      "cell_type": "code",
      "source": [
        "!blastp -db blast_database -query peptides.fa -outfmt 6  -out blast_search_result"
      ],
      "metadata": {
        "id": "qZG670yzRDnE"
      },
      "execution_count": null,
      "outputs": []
    },
    {
      "cell_type": "markdown",
      "source": [
        "### Extract proteins of interest from the initial file"
      ],
      "metadata": {
        "id": "0p8161EfZtz2"
      }
    },
    {
      "cell_type": "code",
      "source": [
        "!cut -f2 blast_search_result | sort | uniq > sseqid.txt"
      ],
      "metadata": {
        "id": "VOT6HZzASMTR"
      },
      "execution_count": null,
      "outputs": []
    },
    {
      "cell_type": "code",
      "source": [
        "df = pd.read_csv('blast_search_result', sep='\\t', comment='#', header=None)\n",
        "cols = 'qseqid sseqid pident length mismatch gapopen qstart qend sstart send evalue bitscore'\n",
        "df.columns = cols.split(' ')\n",
        "df.head()"
      ],
      "metadata": {
        "colab": {
          "base_uri": "https://localhost:8080/",
          "height": 206
        },
        "id": "x1AZF4NaRDqI",
        "outputId": "8e39e472-6183-4d3d-a268-c22bcdb815f8"
      },
      "execution_count": null,
      "outputs": [
        {
          "output_type": "execute_result",
          "data": {
            "text/plain": [
              "   qseqid     sseqid   pident  length  mismatch  gapopen  qstart  qend  \\\n",
              "0       1   g5641.t1  100.000       9         0        0       1     9   \n",
              "1       1  g15153.t1  100.000       9         0        0       1     9   \n",
              "2       2   g5641.t1  100.000       9         0        0       1     9   \n",
              "3       2  g12562.t1   88.889       9         1        0       1     9   \n",
              "4       2   g5616.t1   88.889       9         1        0       1     9   \n",
              "\n",
              "   sstart  send  evalue  bitscore  \n",
              "0      25    33     2.0      21.6  \n",
              "1      25    33     2.1      21.6  \n",
              "2      36    44     1.5      21.9  \n",
              "3      36    44     3.3      20.8  \n",
              "4      36    44     6.7      20.0  "
            ],
            "text/html": [
              "\n",
              "  <div id=\"df-f5d1b8cd-5f5e-43cd-810d-25f7b469e748\">\n",
              "    <div class=\"colab-df-container\">\n",
              "      <div>\n",
              "<style scoped>\n",
              "    .dataframe tbody tr th:only-of-type {\n",
              "        vertical-align: middle;\n",
              "    }\n",
              "\n",
              "    .dataframe tbody tr th {\n",
              "        vertical-align: top;\n",
              "    }\n",
              "\n",
              "    .dataframe thead th {\n",
              "        text-align: right;\n",
              "    }\n",
              "</style>\n",
              "<table border=\"1\" class=\"dataframe\">\n",
              "  <thead>\n",
              "    <tr style=\"text-align: right;\">\n",
              "      <th></th>\n",
              "      <th>qseqid</th>\n",
              "      <th>sseqid</th>\n",
              "      <th>pident</th>\n",
              "      <th>length</th>\n",
              "      <th>mismatch</th>\n",
              "      <th>gapopen</th>\n",
              "      <th>qstart</th>\n",
              "      <th>qend</th>\n",
              "      <th>sstart</th>\n",
              "      <th>send</th>\n",
              "      <th>evalue</th>\n",
              "      <th>bitscore</th>\n",
              "    </tr>\n",
              "  </thead>\n",
              "  <tbody>\n",
              "    <tr>\n",
              "      <th>0</th>\n",
              "      <td>1</td>\n",
              "      <td>g5641.t1</td>\n",
              "      <td>100.000</td>\n",
              "      <td>9</td>\n",
              "      <td>0</td>\n",
              "      <td>0</td>\n",
              "      <td>1</td>\n",
              "      <td>9</td>\n",
              "      <td>25</td>\n",
              "      <td>33</td>\n",
              "      <td>2.0</td>\n",
              "      <td>21.6</td>\n",
              "    </tr>\n",
              "    <tr>\n",
              "      <th>1</th>\n",
              "      <td>1</td>\n",
              "      <td>g15153.t1</td>\n",
              "      <td>100.000</td>\n",
              "      <td>9</td>\n",
              "      <td>0</td>\n",
              "      <td>0</td>\n",
              "      <td>1</td>\n",
              "      <td>9</td>\n",
              "      <td>25</td>\n",
              "      <td>33</td>\n",
              "      <td>2.1</td>\n",
              "      <td>21.6</td>\n",
              "    </tr>\n",
              "    <tr>\n",
              "      <th>2</th>\n",
              "      <td>2</td>\n",
              "      <td>g5641.t1</td>\n",
              "      <td>100.000</td>\n",
              "      <td>9</td>\n",
              "      <td>0</td>\n",
              "      <td>0</td>\n",
              "      <td>1</td>\n",
              "      <td>9</td>\n",
              "      <td>36</td>\n",
              "      <td>44</td>\n",
              "      <td>1.5</td>\n",
              "      <td>21.9</td>\n",
              "    </tr>\n",
              "    <tr>\n",
              "      <th>3</th>\n",
              "      <td>2</td>\n",
              "      <td>g12562.t1</td>\n",
              "      <td>88.889</td>\n",
              "      <td>9</td>\n",
              "      <td>1</td>\n",
              "      <td>0</td>\n",
              "      <td>1</td>\n",
              "      <td>9</td>\n",
              "      <td>36</td>\n",
              "      <td>44</td>\n",
              "      <td>3.3</td>\n",
              "      <td>20.8</td>\n",
              "    </tr>\n",
              "    <tr>\n",
              "      <th>4</th>\n",
              "      <td>2</td>\n",
              "      <td>g5616.t1</td>\n",
              "      <td>88.889</td>\n",
              "      <td>9</td>\n",
              "      <td>1</td>\n",
              "      <td>0</td>\n",
              "      <td>1</td>\n",
              "      <td>9</td>\n",
              "      <td>36</td>\n",
              "      <td>44</td>\n",
              "      <td>6.7</td>\n",
              "      <td>20.0</td>\n",
              "    </tr>\n",
              "  </tbody>\n",
              "</table>\n",
              "</div>\n",
              "      <button class=\"colab-df-convert\" onclick=\"convertToInteractive('df-f5d1b8cd-5f5e-43cd-810d-25f7b469e748')\"\n",
              "              title=\"Convert this dataframe to an interactive table.\"\n",
              "              style=\"display:none;\">\n",
              "        \n",
              "  <svg xmlns=\"http://www.w3.org/2000/svg\" height=\"24px\"viewBox=\"0 0 24 24\"\n",
              "       width=\"24px\">\n",
              "    <path d=\"M0 0h24v24H0V0z\" fill=\"none\"/>\n",
              "    <path d=\"M18.56 5.44l.94 2.06.94-2.06 2.06-.94-2.06-.94-.94-2.06-.94 2.06-2.06.94zm-11 1L8.5 8.5l.94-2.06 2.06-.94-2.06-.94L8.5 2.5l-.94 2.06-2.06.94zm10 10l.94 2.06.94-2.06 2.06-.94-2.06-.94-.94-2.06-.94 2.06-2.06.94z\"/><path d=\"M17.41 7.96l-1.37-1.37c-.4-.4-.92-.59-1.43-.59-.52 0-1.04.2-1.43.59L10.3 9.45l-7.72 7.72c-.78.78-.78 2.05 0 2.83L4 21.41c.39.39.9.59 1.41.59.51 0 1.02-.2 1.41-.59l7.78-7.78 2.81-2.81c.8-.78.8-2.07 0-2.86zM5.41 20L4 18.59l7.72-7.72 1.47 1.35L5.41 20z\"/>\n",
              "  </svg>\n",
              "      </button>\n",
              "      \n",
              "  <style>\n",
              "    .colab-df-container {\n",
              "      display:flex;\n",
              "      flex-wrap:wrap;\n",
              "      gap: 12px;\n",
              "    }\n",
              "\n",
              "    .colab-df-convert {\n",
              "      background-color: #E8F0FE;\n",
              "      border: none;\n",
              "      border-radius: 50%;\n",
              "      cursor: pointer;\n",
              "      display: none;\n",
              "      fill: #1967D2;\n",
              "      height: 32px;\n",
              "      padding: 0 0 0 0;\n",
              "      width: 32px;\n",
              "    }\n",
              "\n",
              "    .colab-df-convert:hover {\n",
              "      background-color: #E2EBFA;\n",
              "      box-shadow: 0px 1px 2px rgba(60, 64, 67, 0.3), 0px 1px 3px 1px rgba(60, 64, 67, 0.15);\n",
              "      fill: #174EA6;\n",
              "    }\n",
              "\n",
              "    [theme=dark] .colab-df-convert {\n",
              "      background-color: #3B4455;\n",
              "      fill: #D2E3FC;\n",
              "    }\n",
              "\n",
              "    [theme=dark] .colab-df-convert:hover {\n",
              "      background-color: #434B5C;\n",
              "      box-shadow: 0px 1px 3px 1px rgba(0, 0, 0, 0.15);\n",
              "      filter: drop-shadow(0px 1px 2px rgba(0, 0, 0, 0.3));\n",
              "      fill: #FFFFFF;\n",
              "    }\n",
              "  </style>\n",
              "\n",
              "      <script>\n",
              "        const buttonEl =\n",
              "          document.querySelector('#df-f5d1b8cd-5f5e-43cd-810d-25f7b469e748 button.colab-df-convert');\n",
              "        buttonEl.style.display =\n",
              "          google.colab.kernel.accessAllowed ? 'block' : 'none';\n",
              "\n",
              "        async function convertToInteractive(key) {\n",
              "          const element = document.querySelector('#df-f5d1b8cd-5f5e-43cd-810d-25f7b469e748');\n",
              "          const dataTable =\n",
              "            await google.colab.kernel.invokeFunction('convertToInteractive',\n",
              "                                                     [key], {});\n",
              "          if (!dataTable) return;\n",
              "\n",
              "          const docLinkHtml = 'Like what you see? Visit the ' +\n",
              "            '<a target=\"_blank\" href=https://colab.research.google.com/notebooks/data_table.ipynb>data table notebook</a>'\n",
              "            + ' to learn more about interactive tables.';\n",
              "          element.innerHTML = '';\n",
              "          dataTable['output_type'] = 'display_data';\n",
              "          await google.colab.output.renderOutput(dataTable, element);\n",
              "          const docLink = document.createElement('div');\n",
              "          docLink.innerHTML = docLinkHtml;\n",
              "          element.appendChild(docLink);\n",
              "        }\n",
              "      </script>\n",
              "    </div>\n",
              "  </div>\n",
              "  "
            ]
          },
          "metadata": {},
          "execution_count": 18
        }
      ]
    },
    {
      "cell_type": "code",
      "source": [
        "df.drop_duplicates('sseqid').shape"
      ],
      "metadata": {
        "colab": {
          "base_uri": "https://localhost:8080/"
        },
        "id": "9KlRPSFibBgX",
        "outputId": "e1e1d4a1-f96c-4fe6-94cf-3d7651bd3f0d"
      },
      "execution_count": null,
      "outputs": [
        {
          "output_type": "execute_result",
          "data": {
            "text/plain": [
              "(34, 12)"
            ]
          },
          "metadata": {},
          "execution_count": 20
        }
      ]
    },
    {
      "cell_type": "code",
      "source": [
        "!conda install -c bioconda samtools -y"
      ],
      "metadata": {
        "id": "wpZ-dPd5S6oJ"
      },
      "execution_count": null,
      "outputs": []
    },
    {
      "cell_type": "code",
      "source": [
        "!xargs samtools faidx augustus.whole.aa < sseqid.txt > sseqid.fa"
      ],
      "metadata": {
        "colab": {
          "base_uri": "https://localhost:8080/"
        },
        "id": "OCG3SYGFSqtA",
        "outputId": "5cbdcd6b-a256-4950-eac7-057b40246f08"
      },
      "execution_count": null,
      "outputs": [
        {
          "output_type": "stream",
          "name": "stdout",
          "text": [
            "[fai_load] build FASTA index.\n"
          ]
        }
      ]
    },
    {
      "cell_type": "markdown",
      "source": [
        "## Localization prediction"
      ],
      "metadata": {
        "id": "agWvIYVEaYEW"
      }
    },
    {
      "cell_type": "markdown",
      "source": [
        "### WoLF PSORT - https://wolfpsort.hgc.jp/"
      ],
      "metadata": {
        "id": "81c85XHCaf1O"
      }
    },
    {
      "cell_type": "markdown",
      "source": [
        "WoLF PSORT predicts the subcellular localization of proteins."
      ],
      "metadata": {
        "id": "WgZfl1dMVyHA"
      }
    },
    {
      "cell_type": "markdown",
      "source": [
        "![image.png](data:image/png;base64,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)"
      ],
      "metadata": {
        "id": "H6zZHK5CTzb6"
      }
    },
    {
      "cell_type": "markdown",
      "source": [
        "### TargetP 1.1 Server - https://services.healthtech.dtu.dk/service.php?TargetP-2.0"
      ],
      "metadata": {
        "id": "zTLu4xAkbePm"
      }
    },
    {
      "cell_type": "markdown",
      "source": [
        "TargetP 1.1 also predicts the subcellular localization of eukaryotic proteins."
      ],
      "metadata": {
        "id": "yImSbS8eVt1w"
      }
    },
    {
      "cell_type": "markdown",
      "source": [
        "![image.png](data:image/png;base64,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)"
      ],
      "metadata": {
        "id": "yNwrnRR8UAF3"
      }
    },
    {
      "cell_type": "markdown",
      "source": [
        "##  BLAST search"
      ],
      "metadata": {
        "id": "sA1Ng1tSUYMP"
      }
    },
    {
      "cell_type": "markdown",
      "source": [
        "BLAST protein sequences against the “UniProtKB/Swiss-Prot” database."
      ],
      "metadata": {
        "id": "zQgc3MuWVqGJ"
      }
    },
    {
      "cell_type": "markdown",
      "source": [
        "Blast-Alignment-HitTable.csv"
      ],
      "metadata": {
        "id": "7dYkB3I4eJZw"
      }
    },
    {
      "cell_type": "code",
      "source": [
        "blast_df = pd.read_csv('Blast-Alignment-HitTable.csv', header=None)\n",
        "cols = 'qseqid sseqid pident length mismatch gapopen qstart qend sstart send evalue score bitscore'\n",
        "blast_df.columns = cols.split(' ')\n",
        "blast_df.head()"
      ],
      "metadata": {
        "id": "_t02svtBaRs_",
        "colab": {
          "base_uri": "https://localhost:8080/",
          "height": 206
        },
        "outputId": "27735744-d057-419c-d500-384855e283a1"
      },
      "execution_count": null,
      "outputs": [
        {
          "output_type": "execute_result",
          "data": {
            "text/plain": [
              "      qseqid    sseqid  pident  length  mismatch  gapopen  qstart  qend  \\\n",
              "0  g11513.t1  Q32PH0.1  28.607     811       492       19     219   966   \n",
              "1  g11513.t1  Q96Q05.2  27.039     932       568       23     218  1060   \n",
              "2  g11513.t1  Q3U0M1.2  26.417     935       568       23     219  1060   \n",
              "3  g11513.t1  Q6PA97.1  29.077     791       484       19     220   948   \n",
              "4  g11513.t1  Q9VIL0.2  29.920     498       324       15     392   876   \n",
              "\n",
              "   sstart  send        evalue  score  bitscore  \n",
              "0     143   929  6.610000e-83  296.0     48.21  \n",
              "1     142  1050  3.570000e-81  291.0     45.60  \n",
              "2     143  1050  4.530000e-80  288.0     45.88  \n",
              "3     144   919  2.920000e-77  280.0     47.03  \n",
              "4     416   901  5.460000e-51  200.0     50.00  "
            ],
            "text/html": [
              "\n",
              "  <div id=\"df-7ce6c5b7-4164-4bd5-8d8f-0570344901d1\">\n",
              "    <div class=\"colab-df-container\">\n",
              "      <div>\n",
              "<style scoped>\n",
              "    .dataframe tbody tr th:only-of-type {\n",
              "        vertical-align: middle;\n",
              "    }\n",
              "\n",
              "    .dataframe tbody tr th {\n",
              "        vertical-align: top;\n",
              "    }\n",
              "\n",
              "    .dataframe thead th {\n",
              "        text-align: right;\n",
              "    }\n",
              "</style>\n",
              "<table border=\"1\" class=\"dataframe\">\n",
              "  <thead>\n",
              "    <tr style=\"text-align: right;\">\n",
              "      <th></th>\n",
              "      <th>qseqid</th>\n",
              "      <th>sseqid</th>\n",
              "      <th>pident</th>\n",
              "      <th>length</th>\n",
              "      <th>mismatch</th>\n",
              "      <th>gapopen</th>\n",
              "      <th>qstart</th>\n",
              "      <th>qend</th>\n",
              "      <th>sstart</th>\n",
              "      <th>send</th>\n",
              "      <th>evalue</th>\n",
              "      <th>score</th>\n",
              "      <th>bitscore</th>\n",
              "    </tr>\n",
              "  </thead>\n",
              "  <tbody>\n",
              "    <tr>\n",
              "      <th>0</th>\n",
              "      <td>g11513.t1</td>\n",
              "      <td>Q32PH0.1</td>\n",
              "      <td>28.607</td>\n",
              "      <td>811</td>\n",
              "      <td>492</td>\n",
              "      <td>19</td>\n",
              "      <td>219</td>\n",
              "      <td>966</td>\n",
              "      <td>143</td>\n",
              "      <td>929</td>\n",
              "      <td>6.610000e-83</td>\n",
              "      <td>296.0</td>\n",
              "      <td>48.21</td>\n",
              "    </tr>\n",
              "    <tr>\n",
              "      <th>1</th>\n",
              "      <td>g11513.t1</td>\n",
              "      <td>Q96Q05.2</td>\n",
              "      <td>27.039</td>\n",
              "      <td>932</td>\n",
              "      <td>568</td>\n",
              "      <td>23</td>\n",
              "      <td>218</td>\n",
              "      <td>1060</td>\n",
              "      <td>142</td>\n",
              "      <td>1050</td>\n",
              "      <td>3.570000e-81</td>\n",
              "      <td>291.0</td>\n",
              "      <td>45.60</td>\n",
              "    </tr>\n",
              "    <tr>\n",
              "      <th>2</th>\n",
              "      <td>g11513.t1</td>\n",
              "      <td>Q3U0M1.2</td>\n",
              "      <td>26.417</td>\n",
              "      <td>935</td>\n",
              "      <td>568</td>\n",
              "      <td>23</td>\n",
              "      <td>219</td>\n",
              "      <td>1060</td>\n",
              "      <td>143</td>\n",
              "      <td>1050</td>\n",
              "      <td>4.530000e-80</td>\n",
              "      <td>288.0</td>\n",
              "      <td>45.88</td>\n",
              "    </tr>\n",
              "    <tr>\n",
              "      <th>3</th>\n",
              "      <td>g11513.t1</td>\n",
              "      <td>Q6PA97.1</td>\n",
              "      <td>29.077</td>\n",
              "      <td>791</td>\n",
              "      <td>484</td>\n",
              "      <td>19</td>\n",
              "      <td>220</td>\n",
              "      <td>948</td>\n",
              "      <td>144</td>\n",
              "      <td>919</td>\n",
              "      <td>2.920000e-77</td>\n",
              "      <td>280.0</td>\n",
              "      <td>47.03</td>\n",
              "    </tr>\n",
              "    <tr>\n",
              "      <th>4</th>\n",
              "      <td>g11513.t1</td>\n",
              "      <td>Q9VIL0.2</td>\n",
              "      <td>29.920</td>\n",
              "      <td>498</td>\n",
              "      <td>324</td>\n",
              "      <td>15</td>\n",
              "      <td>392</td>\n",
              "      <td>876</td>\n",
              "      <td>416</td>\n",
              "      <td>901</td>\n",
              "      <td>5.460000e-51</td>\n",
              "      <td>200.0</td>\n",
              "      <td>50.00</td>\n",
              "    </tr>\n",
              "  </tbody>\n",
              "</table>\n",
              "</div>\n",
              "      <button class=\"colab-df-convert\" onclick=\"convertToInteractive('df-7ce6c5b7-4164-4bd5-8d8f-0570344901d1')\"\n",
              "              title=\"Convert this dataframe to an interactive table.\"\n",
              "              style=\"display:none;\">\n",
              "        \n",
              "  <svg xmlns=\"http://www.w3.org/2000/svg\" height=\"24px\"viewBox=\"0 0 24 24\"\n",
              "       width=\"24px\">\n",
              "    <path d=\"M0 0h24v24H0V0z\" fill=\"none\"/>\n",
              "    <path d=\"M18.56 5.44l.94 2.06.94-2.06 2.06-.94-2.06-.94-.94-2.06-.94 2.06-2.06.94zm-11 1L8.5 8.5l.94-2.06 2.06-.94-2.06-.94L8.5 2.5l-.94 2.06-2.06.94zm10 10l.94 2.06.94-2.06 2.06-.94-2.06-.94-.94-2.06-.94 2.06-2.06.94z\"/><path d=\"M17.41 7.96l-1.37-1.37c-.4-.4-.92-.59-1.43-.59-.52 0-1.04.2-1.43.59L10.3 9.45l-7.72 7.72c-.78.78-.78 2.05 0 2.83L4 21.41c.39.39.9.59 1.41.59.51 0 1.02-.2 1.41-.59l7.78-7.78 2.81-2.81c.8-.78.8-2.07 0-2.86zM5.41 20L4 18.59l7.72-7.72 1.47 1.35L5.41 20z\"/>\n",
              "  </svg>\n",
              "      </button>\n",
              "      \n",
              "  <style>\n",
              "    .colab-df-container {\n",
              "      display:flex;\n",
              "      flex-wrap:wrap;\n",
              "      gap: 12px;\n",
              "    }\n",
              "\n",
              "    .colab-df-convert {\n",
              "      background-color: #E8F0FE;\n",
              "      border: none;\n",
              "      border-radius: 50%;\n",
              "      cursor: pointer;\n",
              "      display: none;\n",
              "      fill: #1967D2;\n",
              "      height: 32px;\n",
              "      padding: 0 0 0 0;\n",
              "      width: 32px;\n",
              "    }\n",
              "\n",
              "    .colab-df-convert:hover {\n",
              "      background-color: #E2EBFA;\n",
              "      box-shadow: 0px 1px 2px rgba(60, 64, 67, 0.3), 0px 1px 3px 1px rgba(60, 64, 67, 0.15);\n",
              "      fill: #174EA6;\n",
              "    }\n",
              "\n",
              "    [theme=dark] .colab-df-convert {\n",
              "      background-color: #3B4455;\n",
              "      fill: #D2E3FC;\n",
              "    }\n",
              "\n",
              "    [theme=dark] .colab-df-convert:hover {\n",
              "      background-color: #434B5C;\n",
              "      box-shadow: 0px 1px 3px 1px rgba(0, 0, 0, 0.15);\n",
              "      filter: drop-shadow(0px 1px 2px rgba(0, 0, 0, 0.3));\n",
              "      fill: #FFFFFF;\n",
              "    }\n",
              "  </style>\n",
              "\n",
              "      <script>\n",
              "        const buttonEl =\n",
              "          document.querySelector('#df-7ce6c5b7-4164-4bd5-8d8f-0570344901d1 button.colab-df-convert');\n",
              "        buttonEl.style.display =\n",
              "          google.colab.kernel.accessAllowed ? 'block' : 'none';\n",
              "\n",
              "        async function convertToInteractive(key) {\n",
              "          const element = document.querySelector('#df-7ce6c5b7-4164-4bd5-8d8f-0570344901d1');\n",
              "          const dataTable =\n",
              "            await google.colab.kernel.invokeFunction('convertToInteractive',\n",
              "                                                     [key], {});\n",
              "          if (!dataTable) return;\n",
              "\n",
              "          const docLinkHtml = 'Like what you see? Visit the ' +\n",
              "            '<a target=\"_blank\" href=https://colab.research.google.com/notebooks/data_table.ipynb>data table notebook</a>'\n",
              "            + ' to learn more about interactive tables.';\n",
              "          element.innerHTML = '';\n",
              "          dataTable['output_type'] = 'display_data';\n",
              "          await google.colab.output.renderOutput(dataTable, element);\n",
              "          const docLink = document.createElement('div');\n",
              "          docLink.innerHTML = docLinkHtml;\n",
              "          element.appendChild(docLink);\n",
              "        }\n",
              "      </script>\n",
              "    </div>\n",
              "  </div>\n",
              "  "
            ]
          },
          "metadata": {},
          "execution_count": 46
        }
      ]
    },
    {
      "cell_type": "code",
      "source": [
        "blast_df.shape"
      ],
      "metadata": {
        "id": "1fE0_md-aRwo",
        "colab": {
          "base_uri": "https://localhost:8080/"
        },
        "outputId": "82c11542-6e02-4b1f-c2d6-d4780c369f38"
      },
      "execution_count": null,
      "outputs": [
        {
          "output_type": "execute_result",
          "data": {
            "text/plain": [
              "(776, 13)"
            ]
          },
          "metadata": {},
          "execution_count": 30
        }
      ]
    },
    {
      "cell_type": "markdown",
      "source": [
        "Try to filter by per indent > 40"
      ],
      "metadata": {
        "id": "n9Qa4FoYelKK"
      }
    },
    {
      "cell_type": "code",
      "source": [
        "res = blast_df[blast_df['pident'] > 40].sort_values('pident', ascending=False).drop_duplicates('qseqid', keep='first')[['qseqid',\t'sseqid', 'evalue', 'pident']]\n",
        "query_coverage = [100, 11, 89, 77, 4, 18, 46, 22, 28, 84, 67]\n",
        "res['query_coverage'] = query_coverage\n",
        "res"
      ],
      "metadata": {
        "colab": {
          "base_uri": "https://localhost:8080/",
          "height": 394
        },
        "id": "ZrWzYB_HekJS",
        "outputId": "ad8e914f-4d72-4e09-e135-cad35e57d750"
      },
      "execution_count": null,
      "outputs": [
        {
          "output_type": "execute_result",
          "data": {
            "text/plain": [
              "        qseqid    sseqid        evalue   pident  query_coverage\n",
              "74   g14472.t1  P0DOW4.1  0.000000e+00  100.000             100\n",
              "505   g4970.t1  Q04832.1  3.090000e-07   66.667              11\n",
              "185   g3428.t1  Q9CQ19.3  3.800000e-63   58.442              89\n",
              "79   g15484.t1  Q505L3.1  0.000000e+00   47.250              77\n",
              "47   g11960.t1  Q4WZJ6.1  1.000000e-03   46.341               4\n",
              "611   g5502.t1  P0DPW5.1  2.590000e-06   44.444              18\n",
              "606   g5467.t1  P0DPW4.1  3.850000e-13   44.118              46\n",
              "72   g12562.t1  P0DPW5.1  4.780000e-05   42.222              22\n",
              "627    g702.t1  P0DPW5.1  9.890000e-06   41.935              28\n",
              "764   g8312.t1  P49754.3  0.000000e+00   41.107              84\n",
              "618   g5616.t1  P0DPW4.1  2.210000e-14   40.964              67"
            ],
            "text/html": [
              "\n",
              "  <div id=\"df-bdfcfaaa-ebd6-4d97-8b29-cd9dd8527597\">\n",
              "    <div class=\"colab-df-container\">\n",
              "      <div>\n",
              "<style scoped>\n",
              "    .dataframe tbody tr th:only-of-type {\n",
              "        vertical-align: middle;\n",
              "    }\n",
              "\n",
              "    .dataframe tbody tr th {\n",
              "        vertical-align: top;\n",
              "    }\n",
              "\n",
              "    .dataframe thead th {\n",
              "        text-align: right;\n",
              "    }\n",
              "</style>\n",
              "<table border=\"1\" class=\"dataframe\">\n",
              "  <thead>\n",
              "    <tr style=\"text-align: right;\">\n",
              "      <th></th>\n",
              "      <th>qseqid</th>\n",
              "      <th>sseqid</th>\n",
              "      <th>evalue</th>\n",
              "      <th>pident</th>\n",
              "      <th>query_coverage</th>\n",
              "    </tr>\n",
              "  </thead>\n",
              "  <tbody>\n",
              "    <tr>\n",
              "      <th>74</th>\n",
              "      <td>g14472.t1</td>\n",
              "      <td>P0DOW4.1</td>\n",
              "      <td>0.000000e+00</td>\n",
              "      <td>100.000</td>\n",
              "      <td>100</td>\n",
              "    </tr>\n",
              "    <tr>\n",
              "      <th>505</th>\n",
              "      <td>g4970.t1</td>\n",
              "      <td>Q04832.1</td>\n",
              "      <td>3.090000e-07</td>\n",
              "      <td>66.667</td>\n",
              "      <td>11</td>\n",
              "    </tr>\n",
              "    <tr>\n",
              "      <th>185</th>\n",
              "      <td>g3428.t1</td>\n",
              "      <td>Q9CQ19.3</td>\n",
              "      <td>3.800000e-63</td>\n",
              "      <td>58.442</td>\n",
              "      <td>89</td>\n",
              "    </tr>\n",
              "    <tr>\n",
              "      <th>79</th>\n",
              "      <td>g15484.t1</td>\n",
              "      <td>Q505L3.1</td>\n",
              "      <td>0.000000e+00</td>\n",
              "      <td>47.250</td>\n",
              "      <td>77</td>\n",
              "    </tr>\n",
              "    <tr>\n",
              "      <th>47</th>\n",
              "      <td>g11960.t1</td>\n",
              "      <td>Q4WZJ6.1</td>\n",
              "      <td>1.000000e-03</td>\n",
              "      <td>46.341</td>\n",
              "      <td>4</td>\n",
              "    </tr>\n",
              "    <tr>\n",
              "      <th>611</th>\n",
              "      <td>g5502.t1</td>\n",
              "      <td>P0DPW5.1</td>\n",
              "      <td>2.590000e-06</td>\n",
              "      <td>44.444</td>\n",
              "      <td>18</td>\n",
              "    </tr>\n",
              "    <tr>\n",
              "      <th>606</th>\n",
              "      <td>g5467.t1</td>\n",
              "      <td>P0DPW4.1</td>\n",
              "      <td>3.850000e-13</td>\n",
              "      <td>44.118</td>\n",
              "      <td>46</td>\n",
              "    </tr>\n",
              "    <tr>\n",
              "      <th>72</th>\n",
              "      <td>g12562.t1</td>\n",
              "      <td>P0DPW5.1</td>\n",
              "      <td>4.780000e-05</td>\n",
              "      <td>42.222</td>\n",
              "      <td>22</td>\n",
              "    </tr>\n",
              "    <tr>\n",
              "      <th>627</th>\n",
              "      <td>g702.t1</td>\n",
              "      <td>P0DPW5.1</td>\n",
              "      <td>9.890000e-06</td>\n",
              "      <td>41.935</td>\n",
              "      <td>28</td>\n",
              "    </tr>\n",
              "    <tr>\n",
              "      <th>764</th>\n",
              "      <td>g8312.t1</td>\n",
              "      <td>P49754.3</td>\n",
              "      <td>0.000000e+00</td>\n",
              "      <td>41.107</td>\n",
              "      <td>84</td>\n",
              "    </tr>\n",
              "    <tr>\n",
              "      <th>618</th>\n",
              "      <td>g5616.t1</td>\n",
              "      <td>P0DPW4.1</td>\n",
              "      <td>2.210000e-14</td>\n",
              "      <td>40.964</td>\n",
              "      <td>67</td>\n",
              "    </tr>\n",
              "  </tbody>\n",
              "</table>\n",
              "</div>\n",
              "      <button class=\"colab-df-convert\" onclick=\"convertToInteractive('df-bdfcfaaa-ebd6-4d97-8b29-cd9dd8527597')\"\n",
              "              title=\"Convert this dataframe to an interactive table.\"\n",
              "              style=\"display:none;\">\n",
              "        \n",
              "  <svg xmlns=\"http://www.w3.org/2000/svg\" height=\"24px\"viewBox=\"0 0 24 24\"\n",
              "       width=\"24px\">\n",
              "    <path d=\"M0 0h24v24H0V0z\" fill=\"none\"/>\n",
              "    <path d=\"M18.56 5.44l.94 2.06.94-2.06 2.06-.94-2.06-.94-.94-2.06-.94 2.06-2.06.94zm-11 1L8.5 8.5l.94-2.06 2.06-.94-2.06-.94L8.5 2.5l-.94 2.06-2.06.94zm10 10l.94 2.06.94-2.06 2.06-.94-2.06-.94-.94-2.06-.94 2.06-2.06.94z\"/><path d=\"M17.41 7.96l-1.37-1.37c-.4-.4-.92-.59-1.43-.59-.52 0-1.04.2-1.43.59L10.3 9.45l-7.72 7.72c-.78.78-.78 2.05 0 2.83L4 21.41c.39.39.9.59 1.41.59.51 0 1.02-.2 1.41-.59l7.78-7.78 2.81-2.81c.8-.78.8-2.07 0-2.86zM5.41 20L4 18.59l7.72-7.72 1.47 1.35L5.41 20z\"/>\n",
              "  </svg>\n",
              "      </button>\n",
              "      \n",
              "  <style>\n",
              "    .colab-df-container {\n",
              "      display:flex;\n",
              "      flex-wrap:wrap;\n",
              "      gap: 12px;\n",
              "    }\n",
              "\n",
              "    .colab-df-convert {\n",
              "      background-color: #E8F0FE;\n",
              "      border: none;\n",
              "      border-radius: 50%;\n",
              "      cursor: pointer;\n",
              "      display: none;\n",
              "      fill: #1967D2;\n",
              "      height: 32px;\n",
              "      padding: 0 0 0 0;\n",
              "      width: 32px;\n",
              "    }\n",
              "\n",
              "    .colab-df-convert:hover {\n",
              "      background-color: #E2EBFA;\n",
              "      box-shadow: 0px 1px 2px rgba(60, 64, 67, 0.3), 0px 1px 3px 1px rgba(60, 64, 67, 0.15);\n",
              "      fill: #174EA6;\n",
              "    }\n",
              "\n",
              "    [theme=dark] .colab-df-convert {\n",
              "      background-color: #3B4455;\n",
              "      fill: #D2E3FC;\n",
              "    }\n",
              "\n",
              "    [theme=dark] .colab-df-convert:hover {\n",
              "      background-color: #434B5C;\n",
              "      box-shadow: 0px 1px 3px 1px rgba(0, 0, 0, 0.15);\n",
              "      filter: drop-shadow(0px 1px 2px rgba(0, 0, 0, 0.3));\n",
              "      fill: #FFFFFF;\n",
              "    }\n",
              "  </style>\n",
              "\n",
              "      <script>\n",
              "        const buttonEl =\n",
              "          document.querySelector('#df-bdfcfaaa-ebd6-4d97-8b29-cd9dd8527597 button.colab-df-convert');\n",
              "        buttonEl.style.display =\n",
              "          google.colab.kernel.accessAllowed ? 'block' : 'none';\n",
              "\n",
              "        async function convertToInteractive(key) {\n",
              "          const element = document.querySelector('#df-bdfcfaaa-ebd6-4d97-8b29-cd9dd8527597');\n",
              "          const dataTable =\n",
              "            await google.colab.kernel.invokeFunction('convertToInteractive',\n",
              "                                                     [key], {});\n",
              "          if (!dataTable) return;\n",
              "\n",
              "          const docLinkHtml = 'Like what you see? Visit the ' +\n",
              "            '<a target=\"_blank\" href=https://colab.research.google.com/notebooks/data_table.ipynb>data table notebook</a>'\n",
              "            + ' to learn more about interactive tables.';\n",
              "          element.innerHTML = '';\n",
              "          dataTable['output_type'] = 'display_data';\n",
              "          await google.colab.output.renderOutput(dataTable, element);\n",
              "          const docLink = document.createElement('div');\n",
              "          docLink.innerHTML = docLinkHtml;\n",
              "          element.appendChild(docLink);\n",
              "        }\n",
              "      </script>\n",
              "    </div>\n",
              "  </div>\n",
              "  "
            ]
          },
          "metadata": {},
          "execution_count": 43
        }
      ]
    },
    {
      "cell_type": "markdown",
      "source": [
        "## Pfam prediction - HMMER - https://www.ebi.ac.uk/Tools/hmmer/"
      ],
      "metadata": {
        "id": "9Ywy7sSNVZuf"
      }
    },
    {
      "cell_type": "markdown",
      "source": [
        "https://www.ebi.ac.uk/Tools/hmmer/results/ACCBE50E-7C6E-11ED-A57F-BE34642C8881/score"
      ],
      "metadata": {
        "id": "YFbj91xBWbQ_"
      }
    },
    {
      "cell_type": "markdown",
      "source": [
        "Combine all files to a single df"
      ],
      "metadata": {
        "id": "0mh9pnjArW5C"
      }
    },
    {
      "cell_type": "code",
      "source": [
        "csv_files = glob.glob(os.path.join('hmmer', \"*.tsv\"))\n",
        "res = []\n",
        "for f in csv_files:\n",
        "    df = pd.read_csv(f, sep='\\t')\n",
        "    res.append(df)\n",
        "hmmer_df = pd.concat(res)\n",
        "hmmer_df.head()"
      ],
      "metadata": {
        "colab": {
          "base_uri": "https://localhost:8080/",
          "height": 302
        },
        "id": "6GzVsZc3rWNY",
        "outputId": "90157813-d8c7-4e42-b52b-b03825459ed1"
      },
      "execution_count": null,
      "outputs": [
        {
          "output_type": "execute_result",
          "data": {
            "text/plain": [
              "        Family id Family Accession    Clan  Env. Start  Env. End  Ali. Start  \\\n",
              "0          CBM_14       PF01607.27  CL0155          69       123          73   \n",
              "0  Glyco_hydro_31       PF01055.29  CL0058         427       844         440   \n",
              "0        Clathrin       PF00637.23  CL0020         652       792         654   \n",
              "0  TRAPPC9-Trs120       PF08626.14       -          54       358          66   \n",
              "1  TRAPPC9-Trs120       PF08626.14       -         498       949         518   \n",
              "\n",
              "   Ali. End  Model Start  Model End  Bit Score  Ind. E-value  Cond. E-value  \\\n",
              "0       123            4         53      43.70  2.500000e-11   1.300000e-15   \n",
              "0       836           39        432     141.44  4.800000e-41   2.400000e-45   \n",
              "0       791            3        142      81.59  5.400000e-23   2.700000e-27   \n",
              "0       331           75        307      36.65  9.600000e-10   4.900000e-14   \n",
              "1       823          552        861      42.77  1.400000e-11   7.000000e-16   \n",
              "\n",
              "                                         Description  \n",
              "0                Chitin binding Peritrophin-A domain  \n",
              "0                      Glycosyl hydrolases family 31  \n",
              "0                         Region in Clathrin and VPS  \n",
              "0  Transport protein Trs120 or TRAPPC9, TRAPP II ...  \n",
              "1  Transport protein Trs120 or TRAPPC9, TRAPP II ...  "
            ],
            "text/html": [
              "\n",
              "  <div id=\"df-2ec0f59d-5bec-4d58-ba86-06f001792793\">\n",
              "    <div class=\"colab-df-container\">\n",
              "      <div>\n",
              "<style scoped>\n",
              "    .dataframe tbody tr th:only-of-type {\n",
              "        vertical-align: middle;\n",
              "    }\n",
              "\n",
              "    .dataframe tbody tr th {\n",
              "        vertical-align: top;\n",
              "    }\n",
              "\n",
              "    .dataframe thead th {\n",
              "        text-align: right;\n",
              "    }\n",
              "</style>\n",
              "<table border=\"1\" class=\"dataframe\">\n",
              "  <thead>\n",
              "    <tr style=\"text-align: right;\">\n",
              "      <th></th>\n",
              "      <th>Family id</th>\n",
              "      <th>Family Accession</th>\n",
              "      <th>Clan</th>\n",
              "      <th>Env. Start</th>\n",
              "      <th>Env. End</th>\n",
              "      <th>Ali. Start</th>\n",
              "      <th>Ali. End</th>\n",
              "      <th>Model Start</th>\n",
              "      <th>Model End</th>\n",
              "      <th>Bit Score</th>\n",
              "      <th>Ind. E-value</th>\n",
              "      <th>Cond. E-value</th>\n",
              "      <th>Description</th>\n",
              "    </tr>\n",
              "  </thead>\n",
              "  <tbody>\n",
              "    <tr>\n",
              "      <th>0</th>\n",
              "      <td>CBM_14</td>\n",
              "      <td>PF01607.27</td>\n",
              "      <td>CL0155</td>\n",
              "      <td>69</td>\n",
              "      <td>123</td>\n",
              "      <td>73</td>\n",
              "      <td>123</td>\n",
              "      <td>4</td>\n",
              "      <td>53</td>\n",
              "      <td>43.70</td>\n",
              "      <td>2.500000e-11</td>\n",
              "      <td>1.300000e-15</td>\n",
              "      <td>Chitin binding Peritrophin-A domain</td>\n",
              "    </tr>\n",
              "    <tr>\n",
              "      <th>0</th>\n",
              "      <td>Glyco_hydro_31</td>\n",
              "      <td>PF01055.29</td>\n",
              "      <td>CL0058</td>\n",
              "      <td>427</td>\n",
              "      <td>844</td>\n",
              "      <td>440</td>\n",
              "      <td>836</td>\n",
              "      <td>39</td>\n",
              "      <td>432</td>\n",
              "      <td>141.44</td>\n",
              "      <td>4.800000e-41</td>\n",
              "      <td>2.400000e-45</td>\n",
              "      <td>Glycosyl hydrolases family 31</td>\n",
              "    </tr>\n",
              "    <tr>\n",
              "      <th>0</th>\n",
              "      <td>Clathrin</td>\n",
              "      <td>PF00637.23</td>\n",
              "      <td>CL0020</td>\n",
              "      <td>652</td>\n",
              "      <td>792</td>\n",
              "      <td>654</td>\n",
              "      <td>791</td>\n",
              "      <td>3</td>\n",
              "      <td>142</td>\n",
              "      <td>81.59</td>\n",
              "      <td>5.400000e-23</td>\n",
              "      <td>2.700000e-27</td>\n",
              "      <td>Region in Clathrin and VPS</td>\n",
              "    </tr>\n",
              "    <tr>\n",
              "      <th>0</th>\n",
              "      <td>TRAPPC9-Trs120</td>\n",
              "      <td>PF08626.14</td>\n",
              "      <td>-</td>\n",
              "      <td>54</td>\n",
              "      <td>358</td>\n",
              "      <td>66</td>\n",
              "      <td>331</td>\n",
              "      <td>75</td>\n",
              "      <td>307</td>\n",
              "      <td>36.65</td>\n",
              "      <td>9.600000e-10</td>\n",
              "      <td>4.900000e-14</td>\n",
              "      <td>Transport protein Trs120 or TRAPPC9, TRAPP II ...</td>\n",
              "    </tr>\n",
              "    <tr>\n",
              "      <th>1</th>\n",
              "      <td>TRAPPC9-Trs120</td>\n",
              "      <td>PF08626.14</td>\n",
              "      <td>-</td>\n",
              "      <td>498</td>\n",
              "      <td>949</td>\n",
              "      <td>518</td>\n",
              "      <td>823</td>\n",
              "      <td>552</td>\n",
              "      <td>861</td>\n",
              "      <td>42.77</td>\n",
              "      <td>1.400000e-11</td>\n",
              "      <td>7.000000e-16</td>\n",
              "      <td>Transport protein Trs120 or TRAPPC9, TRAPP II ...</td>\n",
              "    </tr>\n",
              "  </tbody>\n",
              "</table>\n",
              "</div>\n",
              "      <button class=\"colab-df-convert\" onclick=\"convertToInteractive('df-2ec0f59d-5bec-4d58-ba86-06f001792793')\"\n",
              "              title=\"Convert this dataframe to an interactive table.\"\n",
              "              style=\"display:none;\">\n",
              "        \n",
              "  <svg xmlns=\"http://www.w3.org/2000/svg\" height=\"24px\"viewBox=\"0 0 24 24\"\n",
              "       width=\"24px\">\n",
              "    <path d=\"M0 0h24v24H0V0z\" fill=\"none\"/>\n",
              "    <path d=\"M18.56 5.44l.94 2.06.94-2.06 2.06-.94-2.06-.94-.94-2.06-.94 2.06-2.06.94zm-11 1L8.5 8.5l.94-2.06 2.06-.94-2.06-.94L8.5 2.5l-.94 2.06-2.06.94zm10 10l.94 2.06.94-2.06 2.06-.94-2.06-.94-.94-2.06-.94 2.06-2.06.94z\"/><path d=\"M17.41 7.96l-1.37-1.37c-.4-.4-.92-.59-1.43-.59-.52 0-1.04.2-1.43.59L10.3 9.45l-7.72 7.72c-.78.78-.78 2.05 0 2.83L4 21.41c.39.39.9.59 1.41.59.51 0 1.02-.2 1.41-.59l7.78-7.78 2.81-2.81c.8-.78.8-2.07 0-2.86zM5.41 20L4 18.59l7.72-7.72 1.47 1.35L5.41 20z\"/>\n",
              "  </svg>\n",
              "      </button>\n",
              "      \n",
              "  <style>\n",
              "    .colab-df-container {\n",
              "      display:flex;\n",
              "      flex-wrap:wrap;\n",
              "      gap: 12px;\n",
              "    }\n",
              "\n",
              "    .colab-df-convert {\n",
              "      background-color: #E8F0FE;\n",
              "      border: none;\n",
              "      border-radius: 50%;\n",
              "      cursor: pointer;\n",
              "      display: none;\n",
              "      fill: #1967D2;\n",
              "      height: 32px;\n",
              "      padding: 0 0 0 0;\n",
              "      width: 32px;\n",
              "    }\n",
              "\n",
              "    .colab-df-convert:hover {\n",
              "      background-color: #E2EBFA;\n",
              "      box-shadow: 0px 1px 2px rgba(60, 64, 67, 0.3), 0px 1px 3px 1px rgba(60, 64, 67, 0.15);\n",
              "      fill: #174EA6;\n",
              "    }\n",
              "\n",
              "    [theme=dark] .colab-df-convert {\n",
              "      background-color: #3B4455;\n",
              "      fill: #D2E3FC;\n",
              "    }\n",
              "\n",
              "    [theme=dark] .colab-df-convert:hover {\n",
              "      background-color: #434B5C;\n",
              "      box-shadow: 0px 1px 3px 1px rgba(0, 0, 0, 0.15);\n",
              "      filter: drop-shadow(0px 1px 2px rgba(0, 0, 0, 0.3));\n",
              "      fill: #FFFFFF;\n",
              "    }\n",
              "  </style>\n",
              "\n",
              "      <script>\n",
              "        const buttonEl =\n",
              "          document.querySelector('#df-2ec0f59d-5bec-4d58-ba86-06f001792793 button.colab-df-convert');\n",
              "        buttonEl.style.display =\n",
              "          google.colab.kernel.accessAllowed ? 'block' : 'none';\n",
              "\n",
              "        async function convertToInteractive(key) {\n",
              "          const element = document.querySelector('#df-2ec0f59d-5bec-4d58-ba86-06f001792793');\n",
              "          const dataTable =\n",
              "            await google.colab.kernel.invokeFunction('convertToInteractive',\n",
              "                                                     [key], {});\n",
              "          if (!dataTable) return;\n",
              "\n",
              "          const docLinkHtml = 'Like what you see? Visit the ' +\n",
              "            '<a target=\"_blank\" href=https://colab.research.google.com/notebooks/data_table.ipynb>data table notebook</a>'\n",
              "            + ' to learn more about interactive tables.';\n",
              "          element.innerHTML = '';\n",
              "          dataTable['output_type'] = 'display_data';\n",
              "          await google.colab.output.renderOutput(dataTable, element);\n",
              "          const docLink = document.createElement('div');\n",
              "          docLink.innerHTML = docLinkHtml;\n",
              "          element.appendChild(docLink);\n",
              "        }\n",
              "      </script>\n",
              "    </div>\n",
              "  </div>\n",
              "  "
            ]
          },
          "metadata": {},
          "execution_count": 47
        }
      ]
    },
    {
      "cell_type": "markdown",
      "source": [
        "## Integrate various pieces of evidence\n"
      ],
      "metadata": {
        "id": "zeXM3ox9o73R"
      }
    },
    {
      "cell_type": "code",
      "source": [
        "res = pd.read_csv('results.csv')\n",
        "res"
      ],
      "metadata": {
        "id": "04bGCanyaR4y",
        "colab": {
          "base_uri": "https://localhost:8080/",
          "height": 520
        },
        "outputId": "ba27ac39-72f0-4eec-f41c-09dc0544842d"
      },
      "execution_count": 2,
      "outputs": [
        {
          "output_type": "execute_result",
          "data": {
            "text/plain": [
              "    num   sequence Accession_number    evalue identity       query_cover  \\\n",
              "0     1   g5467.t1         P0DPW4.1  3.83e-13   44.118  45.5172413793103   \n",
              "1     2   g5616.t1         P0DPW4.1   2.2e-14   40.964  40.0990099009901   \n",
              "2     3  g15153.t1         P0DPW4.1  1.85e-14   39.759  46.3276836158192   \n",
              "3     4   g5503.t1         P0DPW4.1  6.59e-14   39.759  37.6744186046512   \n",
              "4     5   g5502.t1         P0DPW5.1  2.57e-06   44.444  18.0327868852459   \n",
              "5     6   g5641.t1         P0DPW4.1     5e-13   39.286  42.7083333333333   \n",
              "6     7  g12562.t1         P0DPW5.1  4.75e-05   42.222                22   \n",
              "7     8  g15484.t1         Q505L3.1         0    47.25  77.5193798449613   \n",
              "8     9   g4106.t1                -         -        -                 -   \n",
              "9    10   g5237.t1                -         -        -                 -   \n",
              "10   11   g5510.t1                -         -        -                 -   \n",
              "11   12  g10513.t1                -         -        -                 -   \n",
              "12   13  g12510.t1                -         -        -                 -   \n",
              "13   14  g13530.t1                -         -        -                 -   \n",
              "14   15  g14472.t1                -         -        -                 -   \n",
              "\n",
              "                                       WoLF_pediction    TargetP_type  \\\n",
              "0                          extr: 27, plas: 4, mito: 1  Signal peptide   \n",
              "1                                   extr: 31, mito: 1  Signal peptide   \n",
              "2                                            extr: 32  Signal peptide   \n",
              "3                 extr: 29, plas: 1, mito: 1, lyso: 1  Signal peptide   \n",
              "4                                   extr: 31, lyso: 1  Signal peptide   \n",
              "5                                   extr: 31, lyso: 1  Signal peptide   \n",
              "6                                   extr: 30, lyso: 2  Signal peptide   \n",
              "7   nucl: 17.5, cyto_nucl: 15.3333, cyto: 12, cyto...           Other   \n",
              "8   E.R.: 14.5, E.R.golg: 9.5, extr: 7, golg: 3.5,...           Other   \n",
              "9                                   plas: 24, mito: 8           Other   \n",
              "10                plas: 23, mito: 7, E.R.: 1, golg: 1           Other   \n",
              "11  nucl: 20, cyto_nucl: 14.5, cyto: 7, extr: 3, E...           Other   \n",
              "12                                  plas: 29, cyto: 3           Other   \n",
              "13  extr: 13, nucl: 6.5, lyso: 5, cyto_nucl: 4.5, ...  Signal peptide   \n",
              "14                nucl: 28, plas: 2, cyto: 1, cysk: 1           Other   \n",
              "\n",
              "    TargetP_likelihood                      pfam_prediction  \n",
              "0               0.9998  Chitin binding Peritrophin-A domain  \n",
              "1               0.9999  Chitin binding Peritrophin-A domain  \n",
              "2               1.0000  Chitin binding Peritrophin-A domain  \n",
              "3               0.9987  Chitin binding Peritrophin-A domain  \n",
              "4               0.9988  Chitin binding Peritrophin-A domain  \n",
              "5               0.9999  Chitin binding Peritrophin-A domain  \n",
              "6               0.9999  Chitin binding Peritrophin-A domain  \n",
              "7               1.0000                          Vps51/Vps67  \n",
              "8               0.7297                                    -  \n",
              "9               0.9995                                    -  \n",
              "10              0.9991          Membrane-associating domain  \n",
              "11              1.0000                                    -  \n",
              "12              0.9997                                    -  \n",
              "13              0.8838                                    -  \n",
              "14              1.0000                                    -  "
            ],
            "text/html": [
              "\n",
              "  <div id=\"df-71ac0de2-385d-4ea6-b7ce-1de6817cb01c\">\n",
              "    <div class=\"colab-df-container\">\n",
              "      <div>\n",
              "<style scoped>\n",
              "    .dataframe tbody tr th:only-of-type {\n",
              "        vertical-align: middle;\n",
              "    }\n",
              "\n",
              "    .dataframe tbody tr th {\n",
              "        vertical-align: top;\n",
              "    }\n",
              "\n",
              "    .dataframe thead th {\n",
              "        text-align: right;\n",
              "    }\n",
              "</style>\n",
              "<table border=\"1\" class=\"dataframe\">\n",
              "  <thead>\n",
              "    <tr style=\"text-align: right;\">\n",
              "      <th></th>\n",
              "      <th>num</th>\n",
              "      <th>sequence</th>\n",
              "      <th>Accession_number</th>\n",
              "      <th>evalue</th>\n",
              "      <th>identity</th>\n",
              "      <th>query_cover</th>\n",
              "      <th>WoLF_pediction</th>\n",
              "      <th>TargetP_type</th>\n",
              "      <th>TargetP_likelihood</th>\n",
              "      <th>pfam_prediction</th>\n",
              "    </tr>\n",
              "  </thead>\n",
              "  <tbody>\n",
              "    <tr>\n",
              "      <th>0</th>\n",
              "      <td>1</td>\n",
              "      <td>g5467.t1</td>\n",
              "      <td>P0DPW4.1</td>\n",
              "      <td>3.83e-13</td>\n",
              "      <td>44.118</td>\n",
              "      <td>45.5172413793103</td>\n",
              "      <td>extr: 27, plas: 4, mito: 1</td>\n",
              "      <td>Signal peptide</td>\n",
              "      <td>0.9998</td>\n",
              "      <td>Chitin binding Peritrophin-A domain</td>\n",
              "    </tr>\n",
              "    <tr>\n",
              "      <th>1</th>\n",
              "      <td>2</td>\n",
              "      <td>g5616.t1</td>\n",
              "      <td>P0DPW4.1</td>\n",
              "      <td>2.2e-14</td>\n",
              "      <td>40.964</td>\n",
              "      <td>40.0990099009901</td>\n",
              "      <td>extr: 31, mito: 1</td>\n",
              "      <td>Signal peptide</td>\n",
              "      <td>0.9999</td>\n",
              "      <td>Chitin binding Peritrophin-A domain</td>\n",
              "    </tr>\n",
              "    <tr>\n",
              "      <th>2</th>\n",
              "      <td>3</td>\n",
              "      <td>g15153.t1</td>\n",
              "      <td>P0DPW4.1</td>\n",
              "      <td>1.85e-14</td>\n",
              "      <td>39.759</td>\n",
              "      <td>46.3276836158192</td>\n",
              "      <td>extr: 32</td>\n",
              "      <td>Signal peptide</td>\n",
              "      <td>1.0000</td>\n",
              "      <td>Chitin binding Peritrophin-A domain</td>\n",
              "    </tr>\n",
              "    <tr>\n",
              "      <th>3</th>\n",
              "      <td>4</td>\n",
              "      <td>g5503.t1</td>\n",
              "      <td>P0DPW4.1</td>\n",
              "      <td>6.59e-14</td>\n",
              "      <td>39.759</td>\n",
              "      <td>37.6744186046512</td>\n",
              "      <td>extr: 29, plas: 1, mito: 1, lyso: 1</td>\n",
              "      <td>Signal peptide</td>\n",
              "      <td>0.9987</td>\n",
              "      <td>Chitin binding Peritrophin-A domain</td>\n",
              "    </tr>\n",
              "    <tr>\n",
              "      <th>4</th>\n",
              "      <td>5</td>\n",
              "      <td>g5502.t1</td>\n",
              "      <td>P0DPW5.1</td>\n",
              "      <td>2.57e-06</td>\n",
              "      <td>44.444</td>\n",
              "      <td>18.0327868852459</td>\n",
              "      <td>extr: 31, lyso: 1</td>\n",
              "      <td>Signal peptide</td>\n",
              "      <td>0.9988</td>\n",
              "      <td>Chitin binding Peritrophin-A domain</td>\n",
              "    </tr>\n",
              "    <tr>\n",
              "      <th>5</th>\n",
              "      <td>6</td>\n",
              "      <td>g5641.t1</td>\n",
              "      <td>P0DPW4.1</td>\n",
              "      <td>5e-13</td>\n",
              "      <td>39.286</td>\n",
              "      <td>42.7083333333333</td>\n",
              "      <td>extr: 31, lyso: 1</td>\n",
              "      <td>Signal peptide</td>\n",
              "      <td>0.9999</td>\n",
              "      <td>Chitin binding Peritrophin-A domain</td>\n",
              "    </tr>\n",
              "    <tr>\n",
              "      <th>6</th>\n",
              "      <td>7</td>\n",
              "      <td>g12562.t1</td>\n",
              "      <td>P0DPW5.1</td>\n",
              "      <td>4.75e-05</td>\n",
              "      <td>42.222</td>\n",
              "      <td>22</td>\n",
              "      <td>extr: 30, lyso: 2</td>\n",
              "      <td>Signal peptide</td>\n",
              "      <td>0.9999</td>\n",
              "      <td>Chitin binding Peritrophin-A domain</td>\n",
              "    </tr>\n",
              "    <tr>\n",
              "      <th>7</th>\n",
              "      <td>8</td>\n",
              "      <td>g15484.t1</td>\n",
              "      <td>Q505L3.1</td>\n",
              "      <td>0</td>\n",
              "      <td>47.25</td>\n",
              "      <td>77.5193798449613</td>\n",
              "      <td>nucl: 17.5, cyto_nucl: 15.3333, cyto: 12, cyto...</td>\n",
              "      <td>Other</td>\n",
              "      <td>1.0000</td>\n",
              "      <td>Vps51/Vps67</td>\n",
              "    </tr>\n",
              "    <tr>\n",
              "      <th>8</th>\n",
              "      <td>9</td>\n",
              "      <td>g4106.t1</td>\n",
              "      <td>-</td>\n",
              "      <td>-</td>\n",
              "      <td>-</td>\n",
              "      <td>-</td>\n",
              "      <td>E.R.: 14.5, E.R.golg: 9.5, extr: 7, golg: 3.5,...</td>\n",
              "      <td>Other</td>\n",
              "      <td>0.7297</td>\n",
              "      <td>-</td>\n",
              "    </tr>\n",
              "    <tr>\n",
              "      <th>9</th>\n",
              "      <td>10</td>\n",
              "      <td>g5237.t1</td>\n",
              "      <td>-</td>\n",
              "      <td>-</td>\n",
              "      <td>-</td>\n",
              "      <td>-</td>\n",
              "      <td>plas: 24, mito: 8</td>\n",
              "      <td>Other</td>\n",
              "      <td>0.9995</td>\n",
              "      <td>-</td>\n",
              "    </tr>\n",
              "    <tr>\n",
              "      <th>10</th>\n",
              "      <td>11</td>\n",
              "      <td>g5510.t1</td>\n",
              "      <td>-</td>\n",
              "      <td>-</td>\n",
              "      <td>-</td>\n",
              "      <td>-</td>\n",
              "      <td>plas: 23, mito: 7, E.R.: 1, golg: 1</td>\n",
              "      <td>Other</td>\n",
              "      <td>0.9991</td>\n",
              "      <td>Membrane-associating domain</td>\n",
              "    </tr>\n",
              "    <tr>\n",
              "      <th>11</th>\n",
              "      <td>12</td>\n",
              "      <td>g10513.t1</td>\n",
              "      <td>-</td>\n",
              "      <td>-</td>\n",
              "      <td>-</td>\n",
              "      <td>-</td>\n",
              "      <td>nucl: 20, cyto_nucl: 14.5, cyto: 7, extr: 3, E...</td>\n",
              "      <td>Other</td>\n",
              "      <td>1.0000</td>\n",
              "      <td>-</td>\n",
              "    </tr>\n",
              "    <tr>\n",
              "      <th>12</th>\n",
              "      <td>13</td>\n",
              "      <td>g12510.t1</td>\n",
              "      <td>-</td>\n",
              "      <td>-</td>\n",
              "      <td>-</td>\n",
              "      <td>-</td>\n",
              "      <td>plas: 29, cyto: 3</td>\n",
              "      <td>Other</td>\n",
              "      <td>0.9997</td>\n",
              "      <td>-</td>\n",
              "    </tr>\n",
              "    <tr>\n",
              "      <th>13</th>\n",
              "      <td>14</td>\n",
              "      <td>g13530.t1</td>\n",
              "      <td>-</td>\n",
              "      <td>-</td>\n",
              "      <td>-</td>\n",
              "      <td>-</td>\n",
              "      <td>extr: 13, nucl: 6.5, lyso: 5, cyto_nucl: 4.5, ...</td>\n",
              "      <td>Signal peptide</td>\n",
              "      <td>0.8838</td>\n",
              "      <td>-</td>\n",
              "    </tr>\n",
              "    <tr>\n",
              "      <th>14</th>\n",
              "      <td>15</td>\n",
              "      <td>g14472.t1</td>\n",
              "      <td>-</td>\n",
              "      <td>-</td>\n",
              "      <td>-</td>\n",
              "      <td>-</td>\n",
              "      <td>nucl: 28, plas: 2, cyto: 1, cysk: 1</td>\n",
              "      <td>Other</td>\n",
              "      <td>1.0000</td>\n",
              "      <td>-</td>\n",
              "    </tr>\n",
              "  </tbody>\n",
              "</table>\n",
              "</div>\n",
              "      <button class=\"colab-df-convert\" onclick=\"convertToInteractive('df-71ac0de2-385d-4ea6-b7ce-1de6817cb01c')\"\n",
              "              title=\"Convert this dataframe to an interactive table.\"\n",
              "              style=\"display:none;\">\n",
              "        \n",
              "  <svg xmlns=\"http://www.w3.org/2000/svg\" height=\"24px\"viewBox=\"0 0 24 24\"\n",
              "       width=\"24px\">\n",
              "    <path d=\"M0 0h24v24H0V0z\" fill=\"none\"/>\n",
              "    <path d=\"M18.56 5.44l.94 2.06.94-2.06 2.06-.94-2.06-.94-.94-2.06-.94 2.06-2.06.94zm-11 1L8.5 8.5l.94-2.06 2.06-.94-2.06-.94L8.5 2.5l-.94 2.06-2.06.94zm10 10l.94 2.06.94-2.06 2.06-.94-2.06-.94-.94-2.06-.94 2.06-2.06.94z\"/><path d=\"M17.41 7.96l-1.37-1.37c-.4-.4-.92-.59-1.43-.59-.52 0-1.04.2-1.43.59L10.3 9.45l-7.72 7.72c-.78.78-.78 2.05 0 2.83L4 21.41c.39.39.9.59 1.41.59.51 0 1.02-.2 1.41-.59l7.78-7.78 2.81-2.81c.8-.78.8-2.07 0-2.86zM5.41 20L4 18.59l7.72-7.72 1.47 1.35L5.41 20z\"/>\n",
              "  </svg>\n",
              "      </button>\n",
              "      \n",
              "  <style>\n",
              "    .colab-df-container {\n",
              "      display:flex;\n",
              "      flex-wrap:wrap;\n",
              "      gap: 12px;\n",
              "    }\n",
              "\n",
              "    .colab-df-convert {\n",
              "      background-color: #E8F0FE;\n",
              "      border: none;\n",
              "      border-radius: 50%;\n",
              "      cursor: pointer;\n",
              "      display: none;\n",
              "      fill: #1967D2;\n",
              "      height: 32px;\n",
              "      padding: 0 0 0 0;\n",
              "      width: 32px;\n",
              "    }\n",
              "\n",
              "    .colab-df-convert:hover {\n",
              "      background-color: #E2EBFA;\n",
              "      box-shadow: 0px 1px 2px rgba(60, 64, 67, 0.3), 0px 1px 3px 1px rgba(60, 64, 67, 0.15);\n",
              "      fill: #174EA6;\n",
              "    }\n",
              "\n",
              "    [theme=dark] .colab-df-convert {\n",
              "      background-color: #3B4455;\n",
              "      fill: #D2E3FC;\n",
              "    }\n",
              "\n",
              "    [theme=dark] .colab-df-convert:hover {\n",
              "      background-color: #434B5C;\n",
              "      box-shadow: 0px 1px 3px 1px rgba(0, 0, 0, 0.15);\n",
              "      filter: drop-shadow(0px 1px 2px rgba(0, 0, 0, 0.3));\n",
              "      fill: #FFFFFF;\n",
              "    }\n",
              "  </style>\n",
              "\n",
              "      <script>\n",
              "        const buttonEl =\n",
              "          document.querySelector('#df-71ac0de2-385d-4ea6-b7ce-1de6817cb01c button.colab-df-convert');\n",
              "        buttonEl.style.display =\n",
              "          google.colab.kernel.accessAllowed ? 'block' : 'none';\n",
              "\n",
              "        async function convertToInteractive(key) {\n",
              "          const element = document.querySelector('#df-71ac0de2-385d-4ea6-b7ce-1de6817cb01c');\n",
              "          const dataTable =\n",
              "            await google.colab.kernel.invokeFunction('convertToInteractive',\n",
              "                                                     [key], {});\n",
              "          if (!dataTable) return;\n",
              "\n",
              "          const docLinkHtml = 'Like what you see? Visit the ' +\n",
              "            '<a target=\"_blank\" href=https://colab.research.google.com/notebooks/data_table.ipynb>data table notebook</a>'\n",
              "            + ' to learn more about interactive tables.';\n",
              "          element.innerHTML = '';\n",
              "          dataTable['output_type'] = 'display_data';\n",
              "          await google.colab.output.renderOutput(dataTable, element);\n",
              "          const docLink = document.createElement('div');\n",
              "          docLink.innerHTML = docLinkHtml;\n",
              "          element.appendChild(docLink);\n",
              "        }\n",
              "      </script>\n",
              "    </div>\n",
              "  </div>\n",
              "  "
            ]
          },
          "metadata": {},
          "execution_count": 2
        }
      ]
    },
    {
      "cell_type": "code",
      "source": [],
      "metadata": {
        "id": "WMa2m0woaR8J"
      },
      "execution_count": null,
      "outputs": []
    }
  ]
}